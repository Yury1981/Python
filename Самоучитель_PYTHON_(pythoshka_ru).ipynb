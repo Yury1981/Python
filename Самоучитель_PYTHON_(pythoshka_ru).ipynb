{
  "nbformat": 4,
  "nbformat_minor": 0,
  "metadata": {
    "colab": {
      "provenance": [],
      "toc_visible": true,
      "authorship_tag": "ABX9TyNB5IJbAXBMdi7dfD+uw6FS",
      "include_colab_link": true
    },
    "kernelspec": {
      "name": "python3",
      "display_name": "Python 3"
    },
    "language_info": {
      "name": "python"
    }
  },
  "cells": [
    {
      "cell_type": "markdown",
      "metadata": {
        "id": "view-in-github",
        "colab_type": "text"
      },
      "source": [
        "<a href=\"https://colab.research.google.com/github/Yury1981/Pythoshka/blob/main/%D0%A1%D0%B0%D0%BC%D0%BE%D1%83%D1%87%D0%B8%D1%82%D0%B5%D0%BB%D1%8C_PYTHON_(pythoshka_ru).ipynb\" target=\"_parent\"><img src=\"https://colab.research.google.com/assets/colab-badge.svg\" alt=\"Open In Colab\"/></a>"
      ]
    },
    {
      "cell_type": "markdown",
      "source": [
        "# 1. **Возможности языка** python"
      ],
      "metadata": {
        "id": "gWvmFyCnBq0S"
      }
    },
    {
      "cell_type": "markdown",
      "source": [
        "Что умеет делать python:\n",
        "\n",
        "*   Работа с xml/html файлами\n",
        "*   Работа с http запросами\n",
        "*   GUI (графический интерфейс)\n",
        "*   Создание веб-сценариев\n",
        "*   Работа с FTP\n",
        "*   Работа с изображениями, аудио и видео файлами\n",
        "*   Робототехника\n",
        "*   Программирование математических и научных вычислений\n",
        "И многое, многое другое…\n",
        "\n",
        "Таким образом, python подходит для решения львиной доли повседневных задач, будь то резервное копирование, чтение электронной почты, либо же какая-нибудь игрушка. Язык программирования Python практически ничем не ограничен, поэтому также может использоваться в крупных проектах. К примеру, python интенсивно применяется IT-гигантами, такими как, например, Google и Yandex. К тому же простота и универсальность python делают его одним из лучших языков программирования."
      ],
      "metadata": {
        "id": "5lrUqpJsChBA"
      }
    },
    {
      "cell_type": "markdown",
      "source": [
        "# 2. Первая программа. Знакомство со средой разработки IDLE"
      ],
      "metadata": {
        "id": "ZT_ZS9M3EuJS"
      }
    },
    {
      "cell_type": "markdown",
      "source": [
        "После загрузки и установки python открываем IDLE (среда разработки на языке Python, поставляемая вместе с дистрибутивом).\n",
        "\n",
        "Запускаем IDLE (изначально запускается в интерактивном режиме), после чего уже можно начинать писать первую программу. Традиционно, первой программой у нас будет «hello world».\n",
        "\n",
        "Чтобы написать «hello world» на python, достаточно всего одной строки:"
      ],
      "metadata": {
        "id": "Qukb5BupFDi5"
      }
    },
    {
      "cell_type": "code",
      "source": [
        "print(\"Hello world!\")"
      ],
      "metadata": {
        "id": "RoOw6xSIFQ_5",
        "colab": {
          "base_uri": "https://localhost:8080/"
        },
        "outputId": "9f74f910-4832-4145-c327-83d29f7baf13"
      },
      "execution_count": null,
      "outputs": [
        {
          "output_type": "stream",
          "name": "stdout",
          "text": [
            "Hello world!\n"
          ]
        }
      ]
    },
    {
      "cell_type": "markdown",
      "source": [
        "Поздравляю! Вы написали свою **первую программу на python**!\n",
        "\n",
        "С интерактивным режимом мы немного познакомились, можете с ним ещё поиграться, например, написать:"
      ],
      "metadata": {
        "id": "soEa598vFVqw"
      }
    },
    {
      "cell_type": "code",
      "source": [
        "print(3 + 4)\n",
        "print(3 * 5)\n",
        "print(3 ** 2)"
      ],
      "metadata": {
        "id": "ROvWg4UZFruh",
        "colab": {
          "base_uri": "https://localhost:8080/"
        },
        "outputId": "73a4ead7-cb54-4620-a120-c7e4f9945452"
      },
      "execution_count": null,
      "outputs": [
        {
          "output_type": "stream",
          "name": "stdout",
          "text": [
            "7\n",
            "15\n",
            "9\n"
          ]
        }
      ]
    },
    {
      "cell_type": "markdown",
      "source": [
        "Но, всё-таки, интерактивный режим не будет являться основным. В основном, вы будете сохранять программный код в файл и запускать уже файл.\n",
        "\n",
        "Для того, чтобы создать новое окно, в интерактивном режиме IDLE выберите File → New File (или нажмите Ctrl + N).\n",
        "\n",
        "В открывшемся окне введите следующий код:"
      ],
      "metadata": {
        "id": "widSERZxFyco"
      }
    },
    {
      "cell_type": "code",
      "source": [
        "name = input(\"Как Вас зовут? \")\n",
        "print(\"Привет,\", name)"
      ],
      "metadata": {
        "id": "BdvjWqDlF60T",
        "colab": {
          "base_uri": "https://localhost:8080/"
        },
        "outputId": "930269c3-4163-4615-ec4e-89ed60c68a0d"
      },
      "execution_count": null,
      "outputs": [
        {
          "output_type": "stream",
          "name": "stdout",
          "text": [
            "Как Вас зовут? Юрий\n",
            "Привет, Юрий\n"
          ]
        }
      ]
    },
    {
      "cell_type": "markdown",
      "source": [
        "Первая строка печатает вопрос («Как Вас зовут? «), ожидает, пока вы не напечатаете что-нибудь и не нажмёте Enter и сохраняет введённое значение в переменной name.\n",
        "\n",
        "Во второй строке мы используем функцию print для вывода текста на экран, в данном случае для вывода «Привет, » и того, что хранится в переменной «name».\n",
        "\n",
        "Теперь нажмём F5 (или выберем в меню IDLE Run → Run Module и убедимся, что то, что мы написали, работает. Перед запуском IDLE предложит нам сохранить файл. Сохраним туда, куда вам будет удобно, после чего программа запустится.\n",
        "\n",
        "Поздравляю! Вы научились писать простейшие программы, а также познакомились со средой разработки IDLE. Теперь можно немного отдохнуть, а потом начать изучать python дальше. Можете посмотреть синтаксис python, циклы или условия. Желаю удачи!"
      ],
      "metadata": {
        "id": "PvrrO02yGCLP"
      }
    },
    {
      "cell_type": "markdown",
      "source": [
        "# 3. Синтаксис python"
      ],
      "metadata": {
        "id": "dM5w45OHGk_V"
      }
    },
    {
      "cell_type": "markdown",
      "source": [
        "Синтаксис языка Python, как и сам язык, очень прост."
      ],
      "metadata": {
        "id": "29GLxTqzJoI_"
      }
    },
    {
      "cell_type": "markdown",
      "source": [
        "## Синтаксис"
      ],
      "metadata": {
        "id": "hL3B0G1iJvF5"
      }
    },
    {
      "cell_type": "markdown",
      "source": [
        "*   Конец строки является концом инструкции (точка с запятой не требуется).\n",
        "*   Вложенные инструкции объединяются в блоки по величине отступов. Отступ может быть любым, главное, чтобы в пределах одного вложенного блока отступ был одинаков. И про читаемость кода не забывайте. Отступ в 1 пробел, к примеру, не лучшее решение. Используйте 4 пробела (или знак табуляции, на худой конец).\n",
        "*   Вложенные инструкции в Python записываются в соответствии с одним и тем же шаблоном, когда основная инструкция завершается двоеточием, вслед за которым располагается вложенный блок кода, обычно с отступом под строкой основной инструкции."
      ],
      "metadata": {
        "id": "yqEX0-hmJ5z4"
      }
    },
    {
      "cell_type": "markdown",
      "source": [
        "Основная инструкция:\n",
        ">Вложенный блок инструкций"
      ],
      "metadata": {
        "id": "5UbQKeaLOeBR"
      }
    },
    {
      "cell_type": "markdown",
      "source": [
        "## Несколько специальных случаев"
      ],
      "metadata": {
        "id": "YvmLQxQcOkRF"
      }
    },
    {
      "cell_type": "markdown",
      "source": [
        "*   Иногда возможно записать несколько инструкций в одной строке, разделяя их точкой с запятой:"
      ],
      "metadata": {
        "id": "0zCNx1f7OqDd"
      }
    },
    {
      "cell_type": "code",
      "source": [
        "a = 1; b = 2; print(a, b)"
      ],
      "metadata": {
        "colab": {
          "base_uri": "https://localhost:8080/"
        },
        "id": "oJyVvsflOzI0",
        "outputId": "a53c1cf7-e0bf-4ea6-882e-2bf63c32a217"
      },
      "execution_count": null,
      "outputs": [
        {
          "output_type": "stream",
          "name": "stdout",
          "text": [
            "1 2\n"
          ]
        }
      ]
    },
    {
      "cell_type": "markdown",
      "source": [
        "Но не делайте это слишком часто! Помните об удобочитаемости. А лучше вообще так не делайте."
      ],
      "metadata": {
        "id": "azQPlje7PAPe"
      }
    },
    {
      "cell_type": "markdown",
      "source": [
        "*   Допустимо записывать одну инструкцию в нескольких строках. Достаточно ее заключить в пару круглых, квадратных или фигурных скобок:"
      ],
      "metadata": {
        "id": "J5ju0nP5PGmk"
      }
    },
    {
      "cell_type": "code",
      "source": [
        "c = 3; d = 4\n",
        "if (a == 1 and b == 2 and\n",
        "    c == 3 and d == 4):  # Не забываем про двоеточие\n",
        "      print('spam' * 3)"
      ],
      "metadata": {
        "colab": {
          "base_uri": "https://localhost:8080/"
        },
        "id": "wUs9IDK9PKmx",
        "outputId": "32d597cf-f96d-41f8-97c4-a4f3c95b93f4"
      },
      "execution_count": null,
      "outputs": [
        {
          "output_type": "stream",
          "name": "stdout",
          "text": [
            "spamspamspam\n"
          ]
        }
      ]
    },
    {
      "cell_type": "markdown",
      "source": [
        "*   Тело составной инструкции может располагаться в той же строке, что и тело основной, если тело составной инструкции не содержит составных инструкций. Ну я думаю, вы поняли :). Давайте лучше пример приведу:"
      ],
      "metadata": {
        "id": "Fab30JNhRM9O"
      }
    },
    {
      "cell_type": "code",
      "source": [
        "x = 1; y = 0\n",
        "if x > y: print(x)"
      ],
      "metadata": {
        "colab": {
          "base_uri": "https://localhost:8080/"
        },
        "id": "ZgKHI6ISRVKk",
        "outputId": "ac41c335-f450-4023-c73a-513ee402f296"
      },
      "execution_count": null,
      "outputs": [
        {
          "output_type": "stream",
          "name": "stdout",
          "text": [
            "1\n"
          ]
        }
      ]
    },
    {
      "cell_type": "markdown",
      "source": [
        "# 4. Инструкция if-elif-else, проверка истинности, трехместное выражение if/else"
      ],
      "metadata": {
        "id": "rbmQmAu-Rlw7"
      }
    },
    {
      "cell_type": "markdown",
      "source": [
        "**Условная инструкция if-elif-else** (её ещё иногда называют оператором ветвления) — основной инструмент выбора в Python. Проще говоря, она выбирает, какое действие следует выполнить, в зависимости от значения переменных в момент проверки условия."
      ],
      "metadata": {
        "id": "K6LMTe0LRt6C"
      }
    },
    {
      "cell_type": "markdown",
      "source": [
        "## Синтаксис инструкции if"
      ],
      "metadata": {
        "id": "HXZAazx6ShDg"
      }
    },
    {
      "cell_type": "markdown",
      "source": [
        "Сначала записывается часть if с условным выражением, далее могут следовать одна или более необязательных частей elif, и, наконец, необязательная часть else. Общая форма записи условной инструкции if выглядит следующим образом:\n",
        "\n",
        "if test1:\n",
        ">state1\n",
        "\n",
        "elif test2:\n",
        ">state2\n",
        "\n",
        "else:\n",
        ">state3"
      ],
      "metadata": {
        "id": "MKhJQNFkSlfH"
      }
    },
    {
      "cell_type": "markdown",
      "source": [
        "Простой пример (напечатает ‘true’, так как 1 — истина):"
      ],
      "metadata": {
        "id": "iXz7wiZzTUxy"
      }
    },
    {
      "cell_type": "code",
      "source": [
        "if 1:\n",
        "  print('true')\n",
        "else:\n",
        "  print('false')"
      ],
      "metadata": {
        "colab": {
          "base_uri": "https://localhost:8080/"
        },
        "id": "S9JQ2xXJVGJ3",
        "outputId": "609021e2-8434-4515-dd6f-f6ec0bda16c2"
      },
      "execution_count": null,
      "outputs": [
        {
          "output_type": "stream",
          "name": "stdout",
          "text": [
            "true\n"
          ]
        }
      ]
    },
    {
      "cell_type": "markdown",
      "source": [
        "Чуть более сложный пример (его результат будет зависеть от того, что ввёл пользователь):"
      ],
      "metadata": {
        "id": "ea9EqxkjVU4k"
      }
    },
    {
      "cell_type": "code",
      "source": [
        "a = int(input())\n",
        "if a < -5:\n",
        "    print('Low')\n",
        "elif -5 <= a <= 5:\n",
        "    print('Mid')\n",
        "else:\n",
        "    print('High')"
      ],
      "metadata": {
        "colab": {
          "base_uri": "https://localhost:8080/"
        },
        "id": "qnWpf871Vbd1",
        "outputId": "04cf8740-4f03-4e56-db67-eaf072f73925"
      },
      "execution_count": null,
      "outputs": [
        {
          "output_type": "stream",
          "name": "stdout",
          "text": [
            "0\n",
            "Mid\n"
          ]
        }
      ]
    },
    {
      "cell_type": "markdown",
      "source": [
        "Конструкция с несколькими elif может также служить отличной заменой конструкции switch — case в других языках программирования."
      ],
      "metadata": {
        "id": "DtPscrWNVjAR"
      }
    },
    {
      "cell_type": "markdown",
      "source": [
        "## Проверка истинности в Python"
      ],
      "metadata": {
        "id": "4sStghm7VoOO"
      }
    },
    {
      "cell_type": "markdown",
      "source": [],
      "metadata": {
        "id": "uq3ciZz7VuC-"
      }
    }
  ]
}