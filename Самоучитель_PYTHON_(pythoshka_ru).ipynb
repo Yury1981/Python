{
  "nbformat": 4,
  "nbformat_minor": 0,
  "metadata": {
    "colab": {
      "provenance": [],
      "toc_visible": true,
      "collapsed_sections": [
        "gWvmFyCnBq0S",
        "ZT_ZS9M3EuJS",
        "dM5w45OHGk_V",
        "rbmQmAu-Rlw7",
        "40biWS1B5OWW"
      ],
      "authorship_tag": "ABX9TyNzhrsXMZHqDoktfBgHdt9V",
      "include_colab_link": true
    },
    "kernelspec": {
      "name": "python3",
      "display_name": "Python 3"
    },
    "language_info": {
      "name": "python"
    }
  },
  "cells": [
    {
      "cell_type": "markdown",
      "metadata": {
        "id": "view-in-github",
        "colab_type": "text"
      },
      "source": [
        "<a href=\"https://colab.research.google.com/github/Yury1981/Python/blob/main/%D0%A1%D0%B0%D0%BC%D0%BE%D1%83%D1%87%D0%B8%D1%82%D0%B5%D0%BB%D1%8C_PYTHON_(pythoshka_ru).ipynb\" target=\"_parent\"><img src=\"https://colab.research.google.com/assets/colab-badge.svg\" alt=\"Open In Colab\"/></a>"
      ]
    },
    {
      "cell_type": "markdown",
      "source": [
        "# 1. **Возможности языка** python"
      ],
      "metadata": {
        "id": "gWvmFyCnBq0S"
      }
    },
    {
      "cell_type": "markdown",
      "source": [
        "Что умеет делать python:\n",
        "\n",
        "*   Работа с xml/html файлами\n",
        "*   Работа с http запросами\n",
        "*   GUI (графический интерфейс)\n",
        "*   Создание веб-сценариев\n",
        "*   Работа с FTP\n",
        "*   Работа с изображениями, аудио и видео файлами\n",
        "*   Робототехника\n",
        "*   Программирование математических и научных вычислений\n",
        "И многое, многое другое…\n",
        "\n",
        "Таким образом, python подходит для решения львиной доли повседневных задач, будь то резервное копирование, чтение электронной почты, либо же какая-нибудь игрушка. Язык программирования Python практически ничем не ограничен, поэтому также может использоваться в крупных проектах. К примеру, python интенсивно применяется IT-гигантами, такими как, например, Google и Yandex. К тому же простота и универсальность python делают его одним из лучших языков программирования."
      ],
      "metadata": {
        "id": "5lrUqpJsChBA"
      }
    },
    {
      "cell_type": "markdown",
      "source": [
        "# 2. Первая программа. Знакомство со средой разработки IDLE"
      ],
      "metadata": {
        "id": "ZT_ZS9M3EuJS"
      }
    },
    {
      "cell_type": "markdown",
      "source": [
        "После загрузки и установки python открываем IDLE (среда разработки на языке Python, поставляемая вместе с дистрибутивом).\n",
        "\n",
        "Запускаем IDLE (изначально запускается в интерактивном режиме), после чего уже можно начинать писать первую программу. Традиционно, первой программой у нас будет «hello world».\n",
        "\n",
        "Чтобы написать «hello world» на python, достаточно всего одной строки:"
      ],
      "metadata": {
        "id": "Qukb5BupFDi5"
      }
    },
    {
      "cell_type": "code",
      "source": [
        "print(\"Hello world!\")"
      ],
      "metadata": {
        "id": "RoOw6xSIFQ_5",
        "colab": {
          "base_uri": "https://localhost:8080/"
        },
        "outputId": "9f74f910-4832-4145-c327-83d29f7baf13"
      },
      "execution_count": null,
      "outputs": [
        {
          "output_type": "stream",
          "name": "stdout",
          "text": [
            "Hello world!\n"
          ]
        }
      ]
    },
    {
      "cell_type": "markdown",
      "source": [
        "Поздравляю! Вы написали свою **первую программу на python**!\n",
        "\n",
        "С интерактивным режимом мы немного познакомились, можете с ним ещё поиграться, например, написать:"
      ],
      "metadata": {
        "id": "soEa598vFVqw"
      }
    },
    {
      "cell_type": "code",
      "source": [
        "print(3 + 4)\n",
        "print(3 * 5)\n",
        "print(3 ** 2)"
      ],
      "metadata": {
        "id": "ROvWg4UZFruh",
        "colab": {
          "base_uri": "https://localhost:8080/"
        },
        "outputId": "73a4ead7-cb54-4620-a120-c7e4f9945452"
      },
      "execution_count": null,
      "outputs": [
        {
          "output_type": "stream",
          "name": "stdout",
          "text": [
            "7\n",
            "15\n",
            "9\n"
          ]
        }
      ]
    },
    {
      "cell_type": "markdown",
      "source": [
        "Но, всё-таки, интерактивный режим не будет являться основным. В основном, вы будете сохранять программный код в файл и запускать уже файл.\n",
        "\n",
        "Для того, чтобы создать новое окно, в интерактивном режиме IDLE выберите File → New File (или нажмите Ctrl + N).\n",
        "\n",
        "В открывшемся окне введите следующий код:"
      ],
      "metadata": {
        "id": "widSERZxFyco"
      }
    },
    {
      "cell_type": "code",
      "source": [
        "name = input(\"Как Вас зовут? \")\n",
        "print(\"Привет,\", name)"
      ],
      "metadata": {
        "id": "BdvjWqDlF60T",
        "colab": {
          "base_uri": "https://localhost:8080/"
        },
        "outputId": "930269c3-4163-4615-ec4e-89ed60c68a0d"
      },
      "execution_count": null,
      "outputs": [
        {
          "output_type": "stream",
          "name": "stdout",
          "text": [
            "Как Вас зовут? Юрий\n",
            "Привет, Юрий\n"
          ]
        }
      ]
    },
    {
      "cell_type": "markdown",
      "source": [
        "Первая строка печатает вопрос («Как Вас зовут? «), ожидает, пока вы не напечатаете что-нибудь и не нажмёте Enter и сохраняет введённое значение в переменной name.\n",
        "\n",
        "Во второй строке мы используем функцию print для вывода текста на экран, в данном случае для вывода «Привет, » и того, что хранится в переменной «name».\n",
        "\n",
        "Теперь нажмём F5 (или выберем в меню IDLE Run → Run Module и убедимся, что то, что мы написали, работает. Перед запуском IDLE предложит нам сохранить файл. Сохраним туда, куда вам будет удобно, после чего программа запустится.\n",
        "\n",
        "Поздравляю! Вы научились писать простейшие программы, а также познакомились со средой разработки IDLE. Теперь можно немного отдохнуть, а потом начать изучать python дальше. Можете посмотреть синтаксис python, циклы или условия. Желаю удачи!"
      ],
      "metadata": {
        "id": "PvrrO02yGCLP"
      }
    },
    {
      "cell_type": "markdown",
      "source": [
        "# 3. Синтаксис python"
      ],
      "metadata": {
        "id": "dM5w45OHGk_V"
      }
    },
    {
      "cell_type": "markdown",
      "source": [
        "Синтаксис языка Python, как и сам язык, очень прост."
      ],
      "metadata": {
        "id": "29GLxTqzJoI_"
      }
    },
    {
      "cell_type": "markdown",
      "source": [
        "## Синтаксис"
      ],
      "metadata": {
        "id": "hL3B0G1iJvF5"
      }
    },
    {
      "cell_type": "markdown",
      "source": [
        "*   Конец строки является концом инструкции (точка с запятой не требуется).\n",
        "*   Вложенные инструкции объединяются в блоки по величине отступов. Отступ может быть любым, главное, чтобы в пределах одного вложенного блока отступ был одинаков. И про читаемость кода не забывайте. Отступ в 1 пробел, к примеру, не лучшее решение. Используйте 4 пробела (или знак табуляции, на худой конец).\n",
        "*   Вложенные инструкции в Python записываются в соответствии с одним и тем же шаблоном, когда основная инструкция завершается двоеточием, вслед за которым располагается вложенный блок кода, обычно с отступом под строкой основной инструкции."
      ],
      "metadata": {
        "id": "yqEX0-hmJ5z4"
      }
    },
    {
      "cell_type": "markdown",
      "source": [
        "Основная инструкция:\n",
        ">Вложенный блок инструкций"
      ],
      "metadata": {
        "id": "5UbQKeaLOeBR"
      }
    },
    {
      "cell_type": "markdown",
      "source": [
        "## Несколько специальных случаев"
      ],
      "metadata": {
        "id": "YvmLQxQcOkRF"
      }
    },
    {
      "cell_type": "markdown",
      "source": [
        "*   Иногда возможно записать несколько инструкций в одной строке, разделяя их точкой с запятой:"
      ],
      "metadata": {
        "id": "0zCNx1f7OqDd"
      }
    },
    {
      "cell_type": "code",
      "source": [
        "a = 1; b = 2; print(a, b)"
      ],
      "metadata": {
        "colab": {
          "base_uri": "https://localhost:8080/"
        },
        "id": "oJyVvsflOzI0",
        "outputId": "a53c1cf7-e0bf-4ea6-882e-2bf63c32a217"
      },
      "execution_count": null,
      "outputs": [
        {
          "output_type": "stream",
          "name": "stdout",
          "text": [
            "1 2\n"
          ]
        }
      ]
    },
    {
      "cell_type": "markdown",
      "source": [
        "Но не делайте это слишком часто! Помните об удобочитаемости. А лучше вообще так не делайте."
      ],
      "metadata": {
        "id": "azQPlje7PAPe"
      }
    },
    {
      "cell_type": "markdown",
      "source": [
        "*   Допустимо записывать одну инструкцию в нескольких строках. Достаточно ее заключить в пару круглых, квадратных или фигурных скобок:"
      ],
      "metadata": {
        "id": "J5ju0nP5PGmk"
      }
    },
    {
      "cell_type": "code",
      "source": [
        "c = 3; d = 4\n",
        "if (a == 1 and b == 2 and\n",
        "    c == 3 and d == 4):  # Не забываем про двоеточие\n",
        "      print('spam' * 3)"
      ],
      "metadata": {
        "colab": {
          "base_uri": "https://localhost:8080/"
        },
        "id": "wUs9IDK9PKmx",
        "outputId": "32d597cf-f96d-41f8-97c4-a4f3c95b93f4"
      },
      "execution_count": null,
      "outputs": [
        {
          "output_type": "stream",
          "name": "stdout",
          "text": [
            "spamspamspam\n"
          ]
        }
      ]
    },
    {
      "cell_type": "markdown",
      "source": [
        "*   Тело составной инструкции может располагаться в той же строке, что и тело основной, если тело составной инструкции не содержит составных инструкций. Ну я думаю, вы поняли :). Давайте лучше пример приведу:"
      ],
      "metadata": {
        "id": "Fab30JNhRM9O"
      }
    },
    {
      "cell_type": "code",
      "source": [
        "x = 1; y = 0\n",
        "if x > y: print(x)"
      ],
      "metadata": {
        "colab": {
          "base_uri": "https://localhost:8080/"
        },
        "id": "ZgKHI6ISRVKk",
        "outputId": "ac41c335-f450-4023-c73a-513ee402f296"
      },
      "execution_count": null,
      "outputs": [
        {
          "output_type": "stream",
          "name": "stdout",
          "text": [
            "1\n"
          ]
        }
      ]
    },
    {
      "cell_type": "markdown",
      "source": [
        "# 4. Инструкция if-elif-else, проверка истинности, трехместное выражение if/else"
      ],
      "metadata": {
        "id": "rbmQmAu-Rlw7"
      }
    },
    {
      "cell_type": "markdown",
      "source": [
        "**Условная инструкция if-elif-else** (её ещё иногда называют оператором ветвления) — основной инструмент выбора в Python. Проще говоря, она выбирает, какое действие следует выполнить, в зависимости от значения переменных в момент проверки условия."
      ],
      "metadata": {
        "id": "K6LMTe0LRt6C"
      }
    },
    {
      "cell_type": "markdown",
      "source": [
        "## Синтаксис инструкции if"
      ],
      "metadata": {
        "id": "HXZAazx6ShDg"
      }
    },
    {
      "cell_type": "markdown",
      "source": [
        "Сначала записывается часть if с условным выражением, далее могут следовать одна или более необязательных частей elif, и, наконец, необязательная часть else. Общая форма записи условной инструкции if выглядит следующим образом:\n",
        "\n",
        "if test1:\n",
        ">state1\n",
        "\n",
        "elif test2:\n",
        ">state2\n",
        "\n",
        "else:\n",
        ">state3"
      ],
      "metadata": {
        "id": "MKhJQNFkSlfH"
      }
    },
    {
      "cell_type": "markdown",
      "source": [
        "Простой пример (напечатает ‘true’, так как 1 — истина):"
      ],
      "metadata": {
        "id": "iXz7wiZzTUxy"
      }
    },
    {
      "cell_type": "code",
      "source": [
        "if 1:\n",
        "  print('true')\n",
        "else:\n",
        "  print('false')"
      ],
      "metadata": {
        "colab": {
          "base_uri": "https://localhost:8080/"
        },
        "id": "S9JQ2xXJVGJ3",
        "outputId": "609021e2-8434-4515-dd6f-f6ec0bda16c2"
      },
      "execution_count": null,
      "outputs": [
        {
          "output_type": "stream",
          "name": "stdout",
          "text": [
            "true\n"
          ]
        }
      ]
    },
    {
      "cell_type": "markdown",
      "source": [
        "Чуть более сложный пример (его результат будет зависеть от того, что ввёл пользователь):"
      ],
      "metadata": {
        "id": "ea9EqxkjVU4k"
      }
    },
    {
      "cell_type": "code",
      "source": [
        "a = int(input())\n",
        "if a < -5:\n",
        "    print('Low')\n",
        "elif -5 <= a <= 5:\n",
        "    print('Mid')\n",
        "else:\n",
        "    print('High')"
      ],
      "metadata": {
        "colab": {
          "base_uri": "https://localhost:8080/"
        },
        "id": "qnWpf871Vbd1",
        "outputId": "04cf8740-4f03-4e56-db67-eaf072f73925"
      },
      "execution_count": null,
      "outputs": [
        {
          "output_type": "stream",
          "name": "stdout",
          "text": [
            "0\n",
            "Mid\n"
          ]
        }
      ]
    },
    {
      "cell_type": "markdown",
      "source": [
        "Конструкция с несколькими elif может также служить отличной заменой конструкции switch — case в других языках программирования."
      ],
      "metadata": {
        "id": "DtPscrWNVjAR"
      }
    },
    {
      "cell_type": "markdown",
      "source": [
        "## Проверка истинности в Python"
      ],
      "metadata": {
        "id": "4sStghm7VoOO"
      }
    },
    {
      "cell_type": "markdown",
      "source": [
        "*   Любое число, не равное 0, или непустой объект — истина.\n",
        "*   Числа, равные 0, пустые объекты и значение None — ложь.\n",
        "*   Операции сравнения применяются к структурам данных рекурсивно.\n",
        "*   Операции сравнения возвращают True или False.\n",
        "*   Логические операторы and и or возвращают истинный или ложный объект-операнд.\n",
        "\n",
        "Логические операторы:<br>\n",
        "X and Y - Истина, если оба значения X и Y истинны.<br>\n",
        "X or Y - Истина, если хотя бы одно из значений X или Y истинно.<br>\n",
        "not X - Истина, если X ложно."
      ],
      "metadata": {
        "id": "uq3ciZz7VuC-"
      }
    },
    {
      "cell_type": "markdown",
      "source": [
        "## Трехместное выражение if/else"
      ],
      "metadata": {
        "id": "-p41iG1Q3yli"
      }
    },
    {
      "cell_type": "markdown",
      "source": [
        "Следующая инструкция:\n",
        "\n",
        "if X:\n",
        ">A = Y\n",
        "\n",
        "else:\n",
        ">A = Z\n",
        "\n",
        "довольно короткая, но, тем не менее, занимает целых 4 строки. Специально для таких случаев и было придумано выражение if/else:\n",
        "\n",
        "A = Y if X else Z\n",
        "\n",
        "В данной инструкции интерпретатор выполнит выражение Y, если X истинно, в противном случае выполнится выражение Z."
      ],
      "metadata": {
        "id": "W1b5g5JR35Y6"
      }
    },
    {
      "cell_type": "code",
      "source": [
        "A = 't' if 'spam' else 'f'\n",
        "A"
      ],
      "metadata": {
        "colab": {
          "base_uri": "https://localhost:8080/",
          "height": 35
        },
        "id": "Qf4-XlJp44Vb",
        "outputId": "262a5167-5036-4fc0-9130-2ef474755bd7"
      },
      "execution_count": null,
      "outputs": [
        {
          "output_type": "execute_result",
          "data": {
            "text/plain": [
              "'t'"
            ],
            "application/vnd.google.colaboratory.intrinsic+json": {
              "type": "string"
            }
          },
          "metadata": {},
          "execution_count": 2
        }
      ]
    },
    {
      "cell_type": "markdown",
      "source": [
        "# 5. Циклы for и while, операторы break и continue, волшебное слово else"
      ],
      "metadata": {
        "id": "40biWS1B5OWW"
      }
    },
    {
      "cell_type": "markdown",
      "source": [
        "В этой статье будет сказано о **циклах for и while**, операторах **break** и **continue**, а также о слове **else**, которое, будучи употребленное с циклом, может сделать программный код несколько более понятным."
      ],
      "metadata": {
        "id": "1rWu0GHJ5VGr"
      }
    },
    {
      "cell_type": "markdown",
      "source": [
        "## Цикл while"
      ],
      "metadata": {
        "id": "DTXEtL5K5mPR"
      }
    },
    {
      "cell_type": "markdown",
      "source": [
        "While — один из самых универсальных циклов в Python, поэтому довольно медленный. Выполняет тело цикла до тех пор, пока условие цикла истинно."
      ],
      "metadata": {
        "id": "utlA_qUV5qj5"
      }
    },
    {
      "cell_type": "code",
      "source": [
        "i = 5\n",
        "while i < 15:\n",
        "  print(i)\n",
        "  i = i + 2"
      ],
      "metadata": {
        "colab": {
          "base_uri": "https://localhost:8080/"
        },
        "id": "MQLcVF0J5tdB",
        "outputId": "1a415fc5-3dba-4641-b62d-a99b31ec83b9"
      },
      "execution_count": null,
      "outputs": [
        {
          "output_type": "stream",
          "name": "stdout",
          "text": [
            "5\n",
            "7\n",
            "9\n",
            "11\n",
            "13\n"
          ]
        }
      ]
    },
    {
      "cell_type": "markdown",
      "source": [
        "## Цикл for"
      ],
      "metadata": {
        "id": "JKNWRw0EC__r"
      }
    },
    {
      "cell_type": "markdown",
      "source": [
        "Цикл for уже чуточку сложнее, чуть менее универсальный, но выполняется гораздо быстрее цикла while. Этот цикл проходится по любому итерируемому объекту (например строке или списку), и во время каждого прохода выполняет тело цикла."
      ],
      "metadata": {
        "id": "yDuCm_IUDFL8"
      }
    },
    {
      "cell_type": "code",
      "source": [
        "for i in 'hello world':\n",
        "  print(i * 2, end='')"
      ],
      "metadata": {
        "colab": {
          "base_uri": "https://localhost:8080/"
        },
        "id": "E0u9Bbf_DJ2-",
        "outputId": "6377725b-5055-4f2e-c724-1b2f3830373c"
      },
      "execution_count": null,
      "outputs": [
        {
          "output_type": "stream",
          "name": "stdout",
          "text": [
            "hheelllloo  wwoorrlldd"
          ]
        }
      ]
    },
    {
      "cell_type": "markdown",
      "source": [
        "## Оператор continue"
      ],
      "metadata": {
        "id": "uyZotb2QDWU0"
      }
    },
    {
      "cell_type": "markdown",
      "source": [
        "Оператор continue начинает следующий проход цикла, минуя оставшееся тело цикла (for или while)."
      ],
      "metadata": {
        "id": "U58JMNPaDbSL"
      }
    },
    {
      "cell_type": "code",
      "source": [
        "for i in 'hello world':\n",
        "  if i == 'o':\n",
        "    continue\n",
        "  print(i * 2, end='')"
      ],
      "metadata": {
        "colab": {
          "base_uri": "https://localhost:8080/"
        },
        "id": "fDC_YzTIDi1y",
        "outputId": "07b7d43e-0146-4e28-f924-4ca1720f17db"
      },
      "execution_count": null,
      "outputs": [
        {
          "output_type": "stream",
          "name": "stdout",
          "text": [
            "hheellll  wwrrlldd"
          ]
        }
      ]
    },
    {
      "cell_type": "markdown",
      "source": [
        "## Оператор break"
      ],
      "metadata": {
        "id": "5Nx8WqlfDwu7"
      }
    },
    {
      "cell_type": "markdown",
      "source": [
        "Оператор break досрочно прерывает цикл."
      ],
      "metadata": {
        "id": "fU7zO22BD28g"
      }
    },
    {
      "cell_type": "code",
      "source": [
        "for i in 'hello world':\n",
        "  if i == 'o':\n",
        "    break\n",
        "  print(i * 2, end='')"
      ],
      "metadata": {
        "colab": {
          "base_uri": "https://localhost:8080/"
        },
        "id": "0QNhBz1WD6rw",
        "outputId": "f735ecbc-fc8d-470c-d96e-a27f99cdf111"
      },
      "execution_count": null,
      "outputs": [
        {
          "output_type": "stream",
          "name": "stdout",
          "text": [
            "hheellll"
          ]
        }
      ]
    },
    {
      "cell_type": "markdown",
      "source": [
        "## Волшебное слово else"
      ],
      "metadata": {
        "id": "dgXzZ7h1EHK9"
      }
    },
    {
      "cell_type": "markdown",
      "source": [
        "Слово else, примененное в цикле for или while, проверяет, был ли произведен выход из цикла инструкцией break, или же «естественным» образом. Блок инструкций внутри else выполнится только в том случае, если выход из цикла произошел без помощи break."
      ],
      "metadata": {
        "id": "ITJOIgF9EMmI"
      }
    },
    {
      "cell_type": "code",
      "source": [
        "for i in 'hello world':\n",
        "  if i == 'a':\n",
        "    break\n",
        "else:\n",
        "  print('Буквы a в строке нет')"
      ],
      "metadata": {
        "colab": {
          "base_uri": "https://localhost:8080/"
        },
        "id": "M-_aXAekEQqk",
        "outputId": "ca7660b6-e04c-4151-b262-5c1e88e8727c"
      },
      "execution_count": null,
      "outputs": [
        {
          "output_type": "stream",
          "name": "stdout",
          "text": [
            "Буквы a в строке нет\n"
          ]
        }
      ]
    },
    {
      "cell_type": "markdown",
      "source": [
        "# 6. Ключевые слова, модуль keyword, встроенные функции"
      ],
      "metadata": {
        "id": "po36eh4xEgbR"
      }
    },
    {
      "cell_type": "markdown",
      "source": [
        "## Ключевые слова"
      ],
      "metadata": {
        "id": "ef4vqY_GE_pX"
      }
    },
    {
      "cell_type": "markdown",
      "source": [
        "**False** — ложь.<br>\n",
        "**True** — правда.<br>\n",
        "**None** — «пустой» объект.<br>\n",
        "**and** — логическое И.<br>\n",
        "**with / as** — менеджер контекста.<br>\n",
        "**assert** условие — возбуждает исключение, если условие ложно.<br>\n",
        "**break** — выход из цикла.<br>\n",
        "**class** — пользовательский тип, состоящий из методов и атрибутов.<br>\n",
        "**continue** — переход на следующую итерацию цикла.\n",
        "**def** — определение функции.<br>\n",
        "**del** — удаление объекта.<br>\n",
        "**elif** — в противном случае, если.<br>\n",
        "**else** — см. for/else или if/else.<br>\n",
        "**except** — перехватить исключение.<br>\n",
        "**finally** — вкупе с инструкцией try, выполняет инструкции независимо от того, было ли исключение или нет.<br>\n",
        "**for** — цикл for.<br>\n",
        "**from** — импорт нескольких функций из модуля.<br>\n",
        "**global** — позволяет сделать значение переменной, присвоенное ей внутри функции, доступным и за пределами этой функции.<br>\n",
        "**if** — если.<br>\n",
        "**import** — импорт модуля.<br>\n",
        "**in** — проверка на вхождение.<br>\n",
        "**is** — ссылаются ли 2 объекта на одно и то же место в памяти.<br>\n",
        "**lambda** — определение анонимной функции.<br>\n",
        "**nonlocal** — позволяет сделать значение переменной, присвоенное ей внутри функции, доступным в объемлющей инструкции.<br>\n",
        "**not** — логическое НЕ.<br>\n",
        "**or** — логическое ИЛИ.<br>\n",
        "**pass** — ничего не делающая конструкция.<br>\n",
        "**raise** — возбудить исключение.<br>\n",
        "**return** — вернуть результат.<br>\n",
        "**try** — выполнить инструкции, перехватывая исключения.<br>\n",
        "**while** — цикл while.<br>\n",
        "**yield** — определение функции-генератора.<br>"
      ],
      "metadata": {
        "id": "c1j7xgLWFDsp"
      }
    },
    {
      "cell_type": "markdown",
      "source": [
        "## Модуль keyword"
      ],
      "metadata": {
        "id": "Bq4AIREzHK1a"
      }
    },
    {
      "cell_type": "markdown",
      "source": [
        "В общем-то, keyword — не такой уж и модуль, но все же.<br>\n",
        "**keyword.kwlist** — список всех доступных ключевых слов.<br>\n",
        "**keyword.iskeyword(строка)** — является ли строка ключевым словом."
      ],
      "metadata": {
        "id": "9PZvxrn2HRip"
      }
    },
    {
      "cell_type": "markdown",
      "source": [
        "## Встроенные функции"
      ],
      "metadata": {
        "id": "-d44oGtlHjY4"
      }
    },
    {
      "cell_type": "markdown",
      "source": [
        "Краткий обзор встроенных функций в Python 3."
      ],
      "metadata": {
        "id": "qJN-OzZAHogU"
      }
    },
    {
      "cell_type": "markdown",
      "source": [
        "### Встроенные функции, выполняющие преобразование типов"
      ],
      "metadata": {
        "id": "JzROIWm7Huv5"
      }
    },
    {
      "cell_type": "markdown",
      "source": [
        "**bool**(x) — преобразование к типу bool, использующая стандартную процедуру проверки истинности. Если х является ложным или опущен, возвращает значение False, в противном случае она возвращает True.<br>\n",
        "**bytearray**([источник [, кодировка [ошибки]]]) — преобразование к bytearray. Bytearray — изменяемая последовательность целых чисел в диапазоне 0≤X<256. Вызванная без аргументов, возвращает пустой массив байт.<br>\n",
        "**bytes**([источник [, кодировка [ошибки]]]) — возвращает объект типа bytes, который является неизменяемой последовательностью целых чисел в диапазоне 0≤X<256. Аргументы конструктора интерпретируются как для bytearray().<br>\n",
        "**complex**([real[, imag]]) — преобразование к комплексному числу.<br>\n",
        "**dict**([object]) — преобразование к словарю.<br>\n",
        "**float**([X]) — преобразование к числу с плавающей точкой. Если аргумент не указан, возвращается 0.0.<br>\n",
        "**frozenset**([последовательность]) — возвращает неизменяемое множество.<br>\n",
        "**int**([object], [основание системы счисления]) — преобразование к целому числу.<br>\n",
        "**list**([object]) — создает список.<br>\n",
        "**memoryview**([object]) — создает объект memoryview.<br>\n",
        "**object**() — возвращает безликий объект, являющийся базовым для всех объектов.<br>\n",
        "**range**([start=0], stop, [step=1]) — арифметическая прогрессия от start до stop с шагом step.<br>\n",
        "**set**([object]) — создает множество.<br>\n",
        "**slice**([start=0], stop, [step=1]) — объект среза от start до stop с шагом step.<br>\n",
        "**str**([object], [кодировка], [ошибки]) — строковое представление объекта. Использует метод __str__.<br>\n",
        "**tuple**(obj) — преобразование к кортежу."
      ],
      "metadata": {
        "id": "r6uSfrHJH1mS"
      }
    },
    {
      "cell_type": "markdown",
      "source": [
        "### Другие встроенные функции"
      ],
      "metadata": {
        "id": "3dMzUSTqJHSS"
      }
    },
    {
      "cell_type": "markdown",
      "source": [
        "**abs**(x) — Возвращает абсолютную величину (модуль числа).<br>\n",
        "**all**(последовательность) — Возвращает True, если все элементы истинные (или, если последовательность пуста).<br>\n",
        "**any**(последовательность) — Возвращает True, если хотя бы один элемент — истина. Для пустой последовательности возвращает False.<br>\n",
        "**ascii**(object) — Как repr(), возвращает строку, содержащую представление объекта, но заменяет не-ASCII символы на экранированные последовательности.<br>\n",
        "**bin**(x) — Преобразование целого числа в двоичную строку.<br>\n",
        "**callable**(x) — Возвращает True для объекта, поддерживающего вызов (как функции).<br>\n",
        "**chr**(x) — Возвращает односимвольную строку, код символа которой равен x.<br>\n",
        "**classmethod**(x) — Представляет указанную функцию методом класса.<br>\n",
        "**compile**(source, filename, mode, flags=0, dont_inherit=False) — Компиляция в программный код, который впоследствии может выполниться функцией eval или exec. Строка не должна содержать символов возврата каретки или нулевые байты.<br>\n",
        "**delattr**(object, name) — Удаляет атрибут с именем ‘name’.<br>\n",
        "**dir**([object]) — Список имен объекта, а если объект не указан, список имен в текущей локальной области видимости.<br>\n",
        "**divmod**(a, b) — Возвращает частное и остаток от деления a на b.<br>\n",
        "**enumerate**(iterable, start=0) — Возвращает итератор, при каждом проходе предоставляющем кортеж из номера и соответствующего члена последовательности.<br>\n",
        "**eval**(expression, globals=None, locals=None) — Выполняет строку программного кода.<br>\n",
        "**exec**(object[, globals[, locals]]) — Выполняет программный код на Python.<br>\n",
        "**filter**(function, iterable) — Возвращает итератор из тех элементов, для которых function возвращает истину.<br>\n",
        "**format**(value[,format_spec]) — Форматирование (обычно форматирование строки).<br>\n",
        "**getattr**(object, name ,[default]) — извлекает атрибут объекта или default.<br>\n",
        "**globals**() — Словарь глобальных имен.<br>\n",
        "**hasattr**(object, name) — Имеет ли объект атрибут с именем ‘name’.<br>\n",
        "**hash**(x) — Возвращает хеш указанного объекта.<br>\n",
        "**help**([object]) — Вызов встроенной справочной системы.<br>\n",
        "**hex**(х) — Преобразование целого числа в шестнадцатеричную строку.<br>\n",
        "**id**(object) — Возвращает «адрес» объекта. Это целое число, которое гарантированно будет уникальным и постоянным для данного объекта в течение срока его существования.<br>\n",
        "**input**([prompt]) — Возвращает введенную пользователем строку. Prompt — подсказка пользователю.<br>\n",
        "**isinstance**(object, ClassInfo) — Истина, если объект является экземпляром ClassInfo или его подклассом. Если объект не является объектом данного типа, функция всегда возвращает ложь.<br>\n",
        "**issubclass**(класс, ClassInfo) — Истина, если класс является подклассом ClassInfo. Класс считается подклассом себя.<br>\n",
        "**iter**(x) — Возвращает объект итератора.<br>\n",
        "**len**(x) — Возвращает число элементов в указанном объекте.<br>\n",
        "**locals**() — Словарь локальных имен.<br>\n",
        "**map**(function, iterator) — Итератор, получившийся после применения к каждому элементу последовательности функции function.<br>\n",
        "**max**(iter, [args …] * [, key]) — Максимальный элемент последовательности.<br>\n",
        "**min**(iter, [args …] * [, key]) — Минимальный элемент последовательности.<br>\n",
        "**next**(x) — Возвращает следующий элемент итератора.<br>\n",
        "**oct**(х) — Преобразование целого числа в восьмеричную строку.<br>\n",
        "**open**(file, mode=’r’, buffering=None, encoding=None, errors=None, newline=None, closefd=True) — Открывает файл и возвращает соответствующий поток.<br>\n",
        "**ord**(с) — Код символа.<br>\n",
        "**pow**(x, y[, r]) — ( x * ** y ) % r.<br>\n",
        "**reversed**(object) — Итератор из развернутого объекта.<br>\n",
        "**repr**(obj) — Представление объекта.<br>\n",
        "**print**([object, …], *, sep=’ ‘, end=’\\n’, file=sys.stdout) — Печать.<br>\n",
        "**property**(fget=None, fset=None, fdel=None, doc=None)<br>\n",
        "**round**(X [, N]) — Округление до N знаков после запятой.<br>\n",
        "**setattr**(объект, имя, значение) — Устанавливает атрибут объекта.<br>\n",
        "**sorted**(iterable[, key][, reverse]) — Отсортированный список.<br>\n",
        "**staticmethod**(function) — Статический метод для функции.<br>\n",
        "**sum**(iter, start=0) — Сумма членов последовательности.<br>\n",
        "**super**([тип [, объект или тип]]) — Доступ к родительскому классу.<br>\n",
        "**type**(object) — Возвращает тип объекта.<br>\n",
        "**type**(name, bases, dict) — Возвращает новый экземпляр класса name.<br>\n",
        "**vars**([object]) — Словарь из атрибутов объекта. По умолчанию — словарь локальных имен.<br>\n",
        "**zip**(*iters) — Итератор, возвращающий кортежи, состоящие из соответствующих элементов аргументов-последовательностей."
      ],
      "metadata": {
        "id": "XJTUKfrFJN2A"
      }
    },
    {
      "cell_type": "markdown",
      "source": [
        "# 7. Числа: целые, вещественные, комплексные"
      ],
      "metadata": {
        "id": "p6Wl6WiZSGVu"
      }
    },
    {
      "cell_type": "markdown",
      "source": [
        "Числа в Python 3: целые, вещественные, комплексные. Работа с числами и операции над ними."
      ],
      "metadata": {
        "id": "zEmd6oiFSd-f"
      }
    },
    {
      "cell_type": "markdown",
      "source": [
        "## Целые числа (int)"
      ],
      "metadata": {
        "id": "lPRUICwaSoHh"
      }
    },
    {
      "cell_type": "markdown",
      "source": [
        "Числа в Python 3 ничем не отличаются от обычных чисел. Они поддерживают набор самых обычных математических операций:<br><br>\n",
        "x + y\tСложение<br>\n",
        "x - y\tВычитание<br>\n",
        "x * y\tУмножение<br>\n",
        "x / y\tДеление<br>\n",
        "x // y\tПолучение целой части от деления<br>\n",
        "x % y\tОстаток от деления<br>\n",
        "-x\tСмена знака числа<br>\n",
        "abs(x)\tМодуль числа<br>\n",
        "divmod(x, y)\tПара (x // y, x % y)<br>\n",
        "x ** y\tВозведение в степень<br>\n",
        "pow(x, y[, z])\txy по модулю (если модуль задан)<br><br>\n",
        "Также нужно отметить, что целые числа в python 3, в отличие от многих других языков, поддерживают длинную арифметику (однако, это требует больше памяти)."
      ],
      "metadata": {
        "id": "7EOugjpSSsJG"
      }
    },
    {
      "cell_type": "code",
      "source": [
        "255 + 34"
      ],
      "metadata": {
        "colab": {
          "base_uri": "https://localhost:8080/"
        },
        "id": "qjGeiI19TRcE",
        "outputId": "4bae2919-39c1-4f2c-b21d-cd1b03d92fe3"
      },
      "execution_count": null,
      "outputs": [
        {
          "output_type": "execute_result",
          "data": {
            "text/plain": [
              "289"
            ]
          },
          "metadata": {},
          "execution_count": 2
        }
      ]
    },
    {
      "cell_type": "code",
      "source": [
        "5 * 2"
      ],
      "metadata": {
        "colab": {
          "base_uri": "https://localhost:8080/"
        },
        "id": "qNQZW-zVTvxo",
        "outputId": "6dc2f08b-32ee-4786-b238-7f958f4bf513"
      },
      "execution_count": null,
      "outputs": [
        {
          "output_type": "execute_result",
          "data": {
            "text/plain": [
              "10"
            ]
          },
          "metadata": {},
          "execution_count": 3
        }
      ]
    },
    {
      "cell_type": "code",
      "source": [
        "20 / 3"
      ],
      "metadata": {
        "colab": {
          "base_uri": "https://localhost:8080/"
        },
        "id": "jQABX0KKTzZP",
        "outputId": "31f4aba0-383f-4bc1-cd78-52cbce57c361"
      },
      "execution_count": null,
      "outputs": [
        {
          "output_type": "execute_result",
          "data": {
            "text/plain": [
              "6.666666666666667"
            ]
          },
          "metadata": {},
          "execution_count": 4
        }
      ]
    },
    {
      "cell_type": "code",
      "source": [
        "20 // 3"
      ],
      "metadata": {
        "colab": {
          "base_uri": "https://localhost:8080/"
        },
        "id": "NnRalMqpT4Oh",
        "outputId": "9934811e-530c-4288-ad2e-17dd20678548"
      },
      "execution_count": null,
      "outputs": [
        {
          "output_type": "execute_result",
          "data": {
            "text/plain": [
              "6"
            ]
          },
          "metadata": {},
          "execution_count": 5
        }
      ]
    },
    {
      "cell_type": "code",
      "source": [
        "20 % 3"
      ],
      "metadata": {
        "colab": {
          "base_uri": "https://localhost:8080/"
        },
        "id": "6m8ZqdcgT84O",
        "outputId": "52c15829-4424-48c6-e7c7-5b5e5a678a5d"
      },
      "execution_count": null,
      "outputs": [
        {
          "output_type": "execute_result",
          "data": {
            "text/plain": [
              "2"
            ]
          },
          "metadata": {},
          "execution_count": 6
        }
      ]
    },
    {
      "cell_type": "code",
      "source": [
        "3 ** 4"
      ],
      "metadata": {
        "colab": {
          "base_uri": "https://localhost:8080/"
        },
        "id": "5nbyvhCUUBDC",
        "outputId": "eee0f452-ac4d-4f06-9ccb-be14d3b8b7f7"
      },
      "execution_count": null,
      "outputs": [
        {
          "output_type": "execute_result",
          "data": {
            "text/plain": [
              "81"
            ]
          },
          "metadata": {},
          "execution_count": 7
        }
      ]
    },
    {
      "cell_type": "code",
      "source": [
        "pow(3, 4)"
      ],
      "metadata": {
        "colab": {
          "base_uri": "https://localhost:8080/"
        },
        "id": "nkJDpU9AUDsg",
        "outputId": "79ee6a6a-aa50-4e3b-ab48-f17f185f0be2"
      },
      "execution_count": null,
      "outputs": [
        {
          "output_type": "execute_result",
          "data": {
            "text/plain": [
              "81"
            ]
          },
          "metadata": {},
          "execution_count": 8
        }
      ]
    },
    {
      "cell_type": "code",
      "source": [
        "pow(3, 4, 27)"
      ],
      "metadata": {
        "colab": {
          "base_uri": "https://localhost:8080/"
        },
        "id": "bv4PeCp4UG_R",
        "outputId": "81359ffe-97e0-4289-b3d7-563c0962ecd6"
      },
      "execution_count": null,
      "outputs": [
        {
          "output_type": "execute_result",
          "data": {
            "text/plain": [
              "0"
            ]
          },
          "metadata": {},
          "execution_count": 9
        }
      ]
    },
    {
      "cell_type": "code",
      "source": [
        "3 ** 150"
      ],
      "metadata": {
        "colab": {
          "base_uri": "https://localhost:8080/"
        },
        "id": "Vsiyzf77U8d_",
        "outputId": "3c00fce5-4f33-446b-8922-f4500f2c64ce"
      },
      "execution_count": null,
      "outputs": [
        {
          "output_type": "execute_result",
          "data": {
            "text/plain": [
              "369988485035126972924700782451696644186473100389722973815184405301748249"
            ]
          },
          "metadata": {},
          "execution_count": 10
        }
      ]
    },
    {
      "cell_type": "markdown",
      "source": [
        "## Битовые операции"
      ],
      "metadata": {
        "id": "WDW8bvj-VAim"
      }
    },
    {
      "cell_type": "markdown",
      "source": [
        "Над целыми числами также можно производить битовые операции:<br><br>\n",
        "x | y\tПобитовое **или**<br>\n",
        "x ^ y\tПобитовое **исключающее или**<br>\n",
        "x & y\tПобитовое **и**<br>\n",
        "x << n\tБитовый сдвиг влево<br>\n",
        "x >> y\tБитовый сдвиг вправо<br>\n",
        "~x\tИнверсия битов"
      ],
      "metadata": {
        "id": "rt-ArjNl5TI2"
      }
    },
    {
      "cell_type": "markdown",
      "source": [
        "## Дополнительные методы"
      ],
      "metadata": {
        "id": "zSDQHTpn5sNe"
      }
    },
    {
      "cell_type": "markdown",
      "source": [
        "**int.bit_length**() — количество бит, необходимых для представления числа в двоичном виде, без учёта знака и лидирующих нулей."
      ],
      "metadata": {
        "id": "FemKntqj5xOt"
      }
    },
    {
      "cell_type": "code",
      "source": [
        "n = -37\n",
        "bin(n)"
      ],
      "metadata": {
        "colab": {
          "base_uri": "https://localhost:8080/",
          "height": 35
        },
        "id": "OaGA3IYY55HO",
        "outputId": "41cf05a5-9c14-4fa8-f085-828c74c89c3a"
      },
      "execution_count": null,
      "outputs": [
        {
          "output_type": "execute_result",
          "data": {
            "text/plain": [
              "'-0b100101'"
            ],
            "application/vnd.google.colaboratory.intrinsic+json": {
              "type": "string"
            }
          },
          "metadata": {},
          "execution_count": 2
        }
      ]
    },
    {
      "cell_type": "code",
      "source": [
        "n.bit_length()"
      ],
      "metadata": {
        "colab": {
          "base_uri": "https://localhost:8080/"
        },
        "id": "rPU3DYRE6Ki1",
        "outputId": "33dd5550-d9b1-4ffe-a736-99bace61995a"
      },
      "execution_count": null,
      "outputs": [
        {
          "output_type": "execute_result",
          "data": {
            "text/plain": [
              "6"
            ]
          },
          "metadata": {},
          "execution_count": 3
        }
      ]
    },
    {
      "cell_type": "markdown",
      "source": [
        "**int.to_bytes**(length, byteorder, *, signed=False) — возвращает строку байтов, представляющих это число."
      ],
      "metadata": {
        "id": "fdN2SQJ56NHQ"
      }
    },
    {
      "cell_type": "code",
      "source": [
        "(1024).to_bytes(2, byteorder='big')"
      ],
      "metadata": {
        "colab": {
          "base_uri": "https://localhost:8080/"
        },
        "id": "W461F8Kb6USX",
        "outputId": "872b156e-0780-4353-d6ad-9bdd3f3ec920"
      },
      "execution_count": null,
      "outputs": [
        {
          "output_type": "execute_result",
          "data": {
            "text/plain": [
              "b'\\x04\\x00'"
            ]
          },
          "metadata": {},
          "execution_count": 4
        }
      ]
    },
    {
      "cell_type": "code",
      "source": [
        "(1024).to_bytes(10, byteorder='big')"
      ],
      "metadata": {
        "colab": {
          "base_uri": "https://localhost:8080/"
        },
        "id": "fSGDwt4a6b3h",
        "outputId": "92cefe41-1e6c-4de9-9053-b6b4f0fb8ba8"
      },
      "execution_count": null,
      "outputs": [
        {
          "output_type": "execute_result",
          "data": {
            "text/plain": [
              "b'\\x00\\x00\\x00\\x00\\x00\\x00\\x00\\x00\\x04\\x00'"
            ]
          },
          "metadata": {},
          "execution_count": 5
        }
      ]
    },
    {
      "cell_type": "code",
      "source": [
        "(-1024).to_bytes(10, byteorder='big', signed=True)"
      ],
      "metadata": {
        "colab": {
          "base_uri": "https://localhost:8080/"
        },
        "id": "QhGuM5Bm6fyz",
        "outputId": "aed237c9-0550-47b3-a850-1214cb2d2ba7"
      },
      "execution_count": null,
      "outputs": [
        {
          "output_type": "execute_result",
          "data": {
            "text/plain": [
              "b'\\xff\\xff\\xff\\xff\\xff\\xff\\xff\\xff\\xfc\\x00'"
            ]
          },
          "metadata": {},
          "execution_count": 6
        }
      ]
    },
    {
      "cell_type": "code",
      "source": [
        "x = 1000\n",
        "x.to_bytes((x.bit_length() // 8) + 1, byteorder='little')"
      ],
      "metadata": {
        "colab": {
          "base_uri": "https://localhost:8080/"
        },
        "id": "kmPJZBEa6k9_",
        "outputId": "a869e870-4b0a-4939-9edd-19e487afedd4"
      },
      "execution_count": null,
      "outputs": [
        {
          "output_type": "execute_result",
          "data": {
            "text/plain": [
              "b'\\xe8\\x03'"
            ]
          },
          "metadata": {},
          "execution_count": 7
        }
      ]
    },
    {
      "cell_type": "markdown",
      "source": [
        "classmethod **int.from_bytes**(bytes, byteorder, *, signed=False) — возвращает число из данной строки байтов."
      ],
      "metadata": {
        "id": "B-wF5d3e6o54"
      }
    },
    {
      "cell_type": "code",
      "source": [
        "int.from_bytes(b'\\x00\\x10', byteorder='big')"
      ],
      "metadata": {
        "colab": {
          "base_uri": "https://localhost:8080/"
        },
        "id": "4yb36Tns6usV",
        "outputId": "9f6d0c2a-5062-4186-a778-21382d0242de"
      },
      "execution_count": null,
      "outputs": [
        {
          "output_type": "execute_result",
          "data": {
            "text/plain": [
              "16"
            ]
          },
          "metadata": {},
          "execution_count": 8
        }
      ]
    },
    {
      "cell_type": "code",
      "source": [
        "int.from_bytes(b'\\x00\\x10', byteorder='little')"
      ],
      "metadata": {
        "colab": {
          "base_uri": "https://localhost:8080/"
        },
        "id": "lopQy6_W6zO4",
        "outputId": "c1b5e111-96ea-445f-f7df-649e99323f52"
      },
      "execution_count": null,
      "outputs": [
        {
          "output_type": "execute_result",
          "data": {
            "text/plain": [
              "4096"
            ]
          },
          "metadata": {},
          "execution_count": 9
        }
      ]
    },
    {
      "cell_type": "code",
      "source": [
        "int.from_bytes(b'\\xfc\\x00', byteorder='big', signed=True)"
      ],
      "metadata": {
        "colab": {
          "base_uri": "https://localhost:8080/"
        },
        "id": "RZruL03b61tf",
        "outputId": "e4c56a6d-9fcf-4337-89d8-31401d6f2a4b"
      },
      "execution_count": null,
      "outputs": [
        {
          "output_type": "execute_result",
          "data": {
            "text/plain": [
              "-1024"
            ]
          },
          "metadata": {},
          "execution_count": 10
        }
      ]
    },
    {
      "cell_type": "code",
      "source": [
        "int.from_bytes(b'\\xfc\\x00', byteorder='big', signed=False)"
      ],
      "metadata": {
        "colab": {
          "base_uri": "https://localhost:8080/"
        },
        "id": "XSoIZTH063Gt",
        "outputId": "ead04553-00b0-46ff-80e8-17f94ee89c10"
      },
      "execution_count": null,
      "outputs": [
        {
          "output_type": "execute_result",
          "data": {
            "text/plain": [
              "64512"
            ]
          },
          "metadata": {},
          "execution_count": 11
        }
      ]
    },
    {
      "cell_type": "code",
      "source": [
        "int.from_bytes([255, 0, 0], byteorder='big')"
      ],
      "metadata": {
        "colab": {
          "base_uri": "https://localhost:8080/"
        },
        "id": "5g2ffU8t6619",
        "outputId": "84a1bc76-0ca5-4fe5-e367-ee64057060a8"
      },
      "execution_count": null,
      "outputs": [
        {
          "output_type": "execute_result",
          "data": {
            "text/plain": [
              "16711680"
            ]
          },
          "metadata": {},
          "execution_count": 12
        }
      ]
    },
    {
      "cell_type": "markdown",
      "source": [
        "## Системы счисления"
      ],
      "metadata": {
        "id": "jN0xfame7H0A"
      }
    },
    {
      "cell_type": "markdown",
      "source": [
        "Те, у кого в школе была информатика, знают, что числа могут быть представлены не только в десятичной системе счисления. К примеру, в компьютере используется двоичный код, и, к примеру, число 19 в двоичной системе счисления будет выглядеть как 10011. Также иногда нужно переводить числа из одной системы счисления в другую. Python для этого предоставляет несколько функций:<br>\n",
        "*   int([object], [основание системы счисления]) — преобразование к целому числу в десятичной системе счисления. По умолчанию система счисления десятичная, но можно задать любое основание от 2 до 36 включительно.\n",
        "*   bin(x) — преобразование целого числа в двоичную строку.\n",
        "*   hex(х) — преобразование целого числа в шестнадцатеричную строку.\n",
        "*   oct(х) — преобразование целого числа в восьмеричную строку.\n",
        "\n",
        "Примеры:"
      ],
      "metadata": {
        "id": "aJkehR8k7OeW"
      }
    },
    {
      "cell_type": "code",
      "source": [
        "a = int('19') # Переводим строку в число\n",
        "b = int('19.5')  # Строка не является целым числом"
      ],
      "metadata": {
        "colab": {
          "base_uri": "https://localhost:8080/",
          "height": 193
        },
        "id": "0Wq-4x0j7-jq",
        "outputId": "ce0783a2-8e51-48e2-f3b8-4479d7172a64"
      },
      "execution_count": null,
      "outputs": [
        {
          "output_type": "error",
          "ename": "ValueError",
          "evalue": "ignored",
          "traceback": [
            "\u001b[0;31m---------------------------------------------------------------------------\u001b[0m",
            "\u001b[0;31mValueError\u001b[0m                                Traceback (most recent call last)",
            "\u001b[0;32m<ipython-input-13-64c5b019e435>\u001b[0m in \u001b[0;36m<cell line: 2>\u001b[0;34m()\u001b[0m\n\u001b[1;32m      1\u001b[0m \u001b[0ma\u001b[0m \u001b[0;34m=\u001b[0m \u001b[0mint\u001b[0m\u001b[0;34m(\u001b[0m\u001b[0;34m'19'\u001b[0m\u001b[0;34m)\u001b[0m \u001b[0;31m# Переводим строку в число\u001b[0m\u001b[0;34m\u001b[0m\u001b[0;34m\u001b[0m\u001b[0m\n\u001b[0;32m----> 2\u001b[0;31m \u001b[0mb\u001b[0m \u001b[0;34m=\u001b[0m \u001b[0mint\u001b[0m\u001b[0;34m(\u001b[0m\u001b[0;34m'19.5'\u001b[0m\u001b[0;34m)\u001b[0m  \u001b[0;31m# Строка не является целым числом\u001b[0m\u001b[0;34m\u001b[0m\u001b[0;34m\u001b[0m\u001b[0m\n\u001b[0m",
            "\u001b[0;31mValueError\u001b[0m: invalid literal for int() with base 10: '19.5'"
          ]
        }
      ]
    },
    {
      "cell_type": "code",
      "source": [
        "c = int(19.5)  # Применённая к числу с плавающей точкой, отсекает дробную часть\n",
        "print(a, c)"
      ],
      "metadata": {
        "colab": {
          "base_uri": "https://localhost:8080/"
        },
        "id": "sYHXDGAH8Gbe",
        "outputId": "163ebf54-0895-4901-dbd6-d94d5cc0d706"
      },
      "execution_count": null,
      "outputs": [
        {
          "output_type": "stream",
          "name": "stdout",
          "text": [
            "19 19\n"
          ]
        }
      ]
    },
    {
      "cell_type": "code",
      "source": [
        "bin(19)"
      ],
      "metadata": {
        "colab": {
          "base_uri": "https://localhost:8080/",
          "height": 35
        },
        "id": "CZZE0CJM8WkO",
        "outputId": "2af1b84e-3957-418b-e503-4554418ea578"
      },
      "execution_count": null,
      "outputs": [
        {
          "output_type": "execute_result",
          "data": {
            "text/plain": [
              "'0b10011'"
            ],
            "application/vnd.google.colaboratory.intrinsic+json": {
              "type": "string"
            }
          },
          "metadata": {},
          "execution_count": 15
        }
      ]
    },
    {
      "cell_type": "code",
      "source": [
        "oct(19)"
      ],
      "metadata": {
        "colab": {
          "base_uri": "https://localhost:8080/",
          "height": 35
        },
        "id": "Bg4uql4R8Yvz",
        "outputId": "c2cb64cc-6cc1-48f4-fb74-08b1189fc576"
      },
      "execution_count": null,
      "outputs": [
        {
          "output_type": "execute_result",
          "data": {
            "text/plain": [
              "'0o23'"
            ],
            "application/vnd.google.colaboratory.intrinsic+json": {
              "type": "string"
            }
          },
          "metadata": {},
          "execution_count": 16
        }
      ]
    },
    {
      "cell_type": "code",
      "source": [
        "hex(19)"
      ],
      "metadata": {
        "colab": {
          "base_uri": "https://localhost:8080/",
          "height": 35
        },
        "id": "y-bdWYjg8bHf",
        "outputId": "77fbcda5-af76-4b0b-9d24-4baf6b45d6a8"
      },
      "execution_count": null,
      "outputs": [
        {
          "output_type": "execute_result",
          "data": {
            "text/plain": [
              "'0x13'"
            ],
            "application/vnd.google.colaboratory.intrinsic+json": {
              "type": "string"
            }
          },
          "metadata": {},
          "execution_count": 17
        }
      ]
    },
    {
      "cell_type": "code",
      "source": [
        "0b10011  # Так тоже можно записывать числовые константы"
      ],
      "metadata": {
        "colab": {
          "base_uri": "https://localhost:8080/"
        },
        "id": "JmA8uSEt8ePv",
        "outputId": "cd9a975b-7079-49e5-a741-ac2c0c45eabd"
      },
      "execution_count": null,
      "outputs": [
        {
          "output_type": "execute_result",
          "data": {
            "text/plain": [
              "19"
            ]
          },
          "metadata": {},
          "execution_count": 18
        }
      ]
    },
    {
      "cell_type": "code",
      "source": [
        "int('10011', 2)"
      ],
      "metadata": {
        "colab": {
          "base_uri": "https://localhost:8080/"
        },
        "id": "068SXAvO8hFe",
        "outputId": "d1d738a3-fbd3-4e6e-d883-96524ff85ad5"
      },
      "execution_count": null,
      "outputs": [
        {
          "output_type": "execute_result",
          "data": {
            "text/plain": [
              "19"
            ]
          },
          "metadata": {},
          "execution_count": 19
        }
      ]
    },
    {
      "cell_type": "code",
      "source": [
        "int('0b10011', 2)"
      ],
      "metadata": {
        "colab": {
          "base_uri": "https://localhost:8080/"
        },
        "id": "JwVpvUSe8mRP",
        "outputId": "1361220c-5db9-40a1-f079-8ec66cc8cfcb"
      },
      "execution_count": null,
      "outputs": [
        {
          "output_type": "execute_result",
          "data": {
            "text/plain": [
              "19"
            ]
          },
          "metadata": {},
          "execution_count": 20
        }
      ]
    },
    {
      "cell_type": "markdown",
      "source": [
        "## Вещественные числа (float)"
      ],
      "metadata": {
        "id": "ghCCadnY8s5E"
      }
    },
    {
      "cell_type": "markdown",
      "source": [
        "Вещественные числа поддерживают те же операции, что и целые. Однако (из-за представления чисел в компьютере) вещественные числа неточны, и это может привести к ошибкам:"
      ],
      "metadata": {
        "id": "B_Snt7fE8wfk"
      }
    },
    {
      "cell_type": "code",
      "source": [
        "0.1 + 0.1 + 0.1 + 0.1 + 0.1 + 0.1 + 0.1 + 0.1 + 0.1 + 0.1"
      ],
      "metadata": {
        "colab": {
          "base_uri": "https://localhost:8080/"
        },
        "id": "40aCgiCk81Ct",
        "outputId": "43f3ef9b-6a76-46dd-ff2b-ff19276f4e62"
      },
      "execution_count": null,
      "outputs": [
        {
          "output_type": "execute_result",
          "data": {
            "text/plain": [
              "0.9999999999999999"
            ]
          },
          "metadata": {},
          "execution_count": 21
        }
      ]
    },
    {
      "cell_type": "markdown",
      "source": [
        "Для высокой точности используют другие объекты (например Decimal и Fraction).\n",
        "\n",
        "Также вещественные числа не поддерживают длинную арифметику:"
      ],
      "metadata": {
        "id": "5ZwrHBx7833N"
      }
    },
    {
      "cell_type": "code",
      "source": [
        "a = 3 ** 1000\n",
        "a + 0.1"
      ],
      "metadata": {
        "colab": {
          "base_uri": "https://localhost:8080/",
          "height": 193
        },
        "id": "hqZDmTlu9B53",
        "outputId": "658be932-cbf2-4296-ee5e-a20e98832d40"
      },
      "execution_count": null,
      "outputs": [
        {
          "output_type": "error",
          "ename": "OverflowError",
          "evalue": "ignored",
          "traceback": [
            "\u001b[0;31m---------------------------------------------------------------------------\u001b[0m",
            "\u001b[0;31mOverflowError\u001b[0m                             Traceback (most recent call last)",
            "\u001b[0;32m<ipython-input-22-88fe2c7be406>\u001b[0m in \u001b[0;36m<cell line: 2>\u001b[0;34m()\u001b[0m\n\u001b[1;32m      1\u001b[0m \u001b[0ma\u001b[0m \u001b[0;34m=\u001b[0m \u001b[0;36m3\u001b[0m \u001b[0;34m**\u001b[0m \u001b[0;36m1000\u001b[0m\u001b[0;34m\u001b[0m\u001b[0;34m\u001b[0m\u001b[0m\n\u001b[0;32m----> 2\u001b[0;31m \u001b[0ma\u001b[0m \u001b[0;34m+\u001b[0m \u001b[0;36m0.1\u001b[0m\u001b[0;34m\u001b[0m\u001b[0;34m\u001b[0m\u001b[0m\n\u001b[0m",
            "\u001b[0;31mOverflowError\u001b[0m: int too large to convert to float"
          ]
        }
      ]
    },
    {
      "cell_type": "markdown",
      "source": [
        "Простенькие примеры работы с числами:"
      ],
      "metadata": {
        "id": "-XFcYl0s9LLG"
      }
    },
    {
      "cell_type": "code",
      "source": [
        "c = 150\n",
        "d = 12.9\n",
        "c + d"
      ],
      "metadata": {
        "colab": {
          "base_uri": "https://localhost:8080/"
        },
        "id": "2pWoq0L39NIN",
        "outputId": "4a5f8313-4845-451b-e823-adbb35c87e3f"
      },
      "execution_count": null,
      "outputs": [
        {
          "output_type": "execute_result",
          "data": {
            "text/plain": [
              "162.9"
            ]
          },
          "metadata": {},
          "execution_count": 23
        }
      ]
    },
    {
      "cell_type": "code",
      "source": [
        "p = abs(d - c)  # Модуль числа\n",
        "print(p)"
      ],
      "metadata": {
        "colab": {
          "base_uri": "https://localhost:8080/"
        },
        "id": "5prwOGRQ9SuC",
        "outputId": "98a070dc-95e2-4385-efcc-a28754f3f069"
      },
      "execution_count": null,
      "outputs": [
        {
          "output_type": "stream",
          "name": "stdout",
          "text": [
            "137.1\n"
          ]
        }
      ]
    },
    {
      "cell_type": "code",
      "source": [
        "round(p)  # Округление"
      ],
      "metadata": {
        "colab": {
          "base_uri": "https://localhost:8080/"
        },
        "id": "r9QmB6ih9WBW",
        "outputId": "2226cde5-b431-4849-c7a1-285aa95c626c"
      },
      "execution_count": null,
      "outputs": [
        {
          "output_type": "execute_result",
          "data": {
            "text/plain": [
              "137"
            ]
          },
          "metadata": {},
          "execution_count": 25
        }
      ]
    },
    {
      "cell_type": "markdown",
      "source": [
        "## Дополнительные методы"
      ],
      "metadata": {
        "id": "t6DuSRmW9ZBW"
      }
    },
    {
      "cell_type": "markdown",
      "source": [
        "**float.as_integer_ratio**() — пара целых чисел, чьё отношение равно этому числу.\n",
        "\n",
        "**float.is_integer**() — является ли значение целым числом.\n",
        "\n",
        "**float.hex**() — переводит float в hex (шестнадцатеричную систему счисления).\n",
        "\n",
        "classmethod **float.fromhex**(s) — float из шестнадцатеричной строки."
      ],
      "metadata": {
        "id": "3-f5a7kM9dPn"
      }
    },
    {
      "cell_type": "code",
      "source": [
        "(10.5).hex()"
      ],
      "metadata": {
        "colab": {
          "base_uri": "https://localhost:8080/",
          "height": 35
        },
        "id": "SAC4kp259l0W",
        "outputId": "846a1da6-d4a8-43fc-d07a-4d6636a005ea"
      },
      "execution_count": null,
      "outputs": [
        {
          "output_type": "execute_result",
          "data": {
            "text/plain": [
              "'0x1.5000000000000p+3'"
            ],
            "application/vnd.google.colaboratory.intrinsic+json": {
              "type": "string"
            }
          },
          "metadata": {},
          "execution_count": 26
        }
      ]
    },
    {
      "cell_type": "code",
      "source": [
        "float.fromhex('0x1.5000000000000p+3')"
      ],
      "metadata": {
        "colab": {
          "base_uri": "https://localhost:8080/"
        },
        "id": "Ok-_qNIQ9ojF",
        "outputId": "49065c38-4df6-4a35-d255-2c6edf5ca54a"
      },
      "execution_count": null,
      "outputs": [
        {
          "output_type": "execute_result",
          "data": {
            "text/plain": [
              "10.5"
            ]
          },
          "metadata": {},
          "execution_count": 27
        }
      ]
    },
    {
      "cell_type": "markdown",
      "source": [
        "Помимо стандартных выражений для работы с числами (а в Python их не так уж и много), в составе Python есть несколько полезных модулей.\n",
        "\n",
        "Модуль math предоставляет более сложные математические функции."
      ],
      "metadata": {
        "id": "DZidSmD79s9-"
      }
    },
    {
      "cell_type": "code",
      "source": [
        "import math\n",
        "math.pi"
      ],
      "metadata": {
        "colab": {
          "base_uri": "https://localhost:8080/"
        },
        "id": "aBAz4h_f9z92",
        "outputId": "8bcb6e6d-959e-494e-d337-62dc4f88ceab"
      },
      "execution_count": null,
      "outputs": [
        {
          "output_type": "execute_result",
          "data": {
            "text/plain": [
              "3.141592653589793"
            ]
          },
          "metadata": {},
          "execution_count": 28
        }
      ]
    },
    {
      "cell_type": "code",
      "source": [
        "math.sqrt(85)"
      ],
      "metadata": {
        "colab": {
          "base_uri": "https://localhost:8080/"
        },
        "id": "ZGJOT2cX93hQ",
        "outputId": "401fd45f-4524-4c6f-a2f0-419e4b82d079"
      },
      "execution_count": null,
      "outputs": [
        {
          "output_type": "execute_result",
          "data": {
            "text/plain": [
              "9.219544457292887"
            ]
          },
          "metadata": {},
          "execution_count": 29
        }
      ]
    },
    {
      "cell_type": "markdown",
      "source": [
        "Модуль random реализует генератор случайных чисел и функции случайного выбора."
      ],
      "metadata": {
        "id": "Bj0ROQrz95_m"
      }
    },
    {
      "cell_type": "code",
      "source": [
        "import random\n",
        "random.random()"
      ],
      "metadata": {
        "colab": {
          "base_uri": "https://localhost:8080/"
        },
        "id": "XG_Dr60497wF",
        "outputId": "eed7b37b-b198-4ada-d0d5-f930c9aa0fae"
      },
      "execution_count": null,
      "outputs": [
        {
          "output_type": "execute_result",
          "data": {
            "text/plain": [
              "0.9531799234104484"
            ]
          },
          "metadata": {},
          "execution_count": 30
        }
      ]
    },
    {
      "cell_type": "markdown",
      "source": [
        "## Комплексные числа (complex)"
      ],
      "metadata": {
        "id": "XOFoRrp0-A9y"
      }
    },
    {
      "cell_type": "markdown",
      "source": [
        "В Python встроены также и комплексные числа:"
      ],
      "metadata": {
        "id": "JeDswlHH-Fjm"
      }
    },
    {
      "cell_type": "code",
      "source": [
        "x = complex(1, 2)\n",
        "print(x)"
      ],
      "metadata": {
        "colab": {
          "base_uri": "https://localhost:8080/"
        },
        "id": "Y4oQDQWk-IOl",
        "outputId": "77bd71a7-1d84-4144-eb15-c816e77f1fc6"
      },
      "execution_count": null,
      "outputs": [
        {
          "output_type": "stream",
          "name": "stdout",
          "text": [
            "(1+2j)\n"
          ]
        }
      ]
    },
    {
      "cell_type": "code",
      "source": [
        "y = complex(3, 4)\n",
        "print(y)"
      ],
      "metadata": {
        "colab": {
          "base_uri": "https://localhost:8080/"
        },
        "id": "_BJIS2gL-MmO",
        "outputId": "2393355f-a18d-4451-a925-b9246445218d"
      },
      "execution_count": null,
      "outputs": [
        {
          "output_type": "stream",
          "name": "stdout",
          "text": [
            "(3+4j)\n"
          ]
        }
      ]
    },
    {
      "cell_type": "code",
      "source": [
        "z = x + y\n",
        "print(x)\n",
        "print(z)"
      ],
      "metadata": {
        "colab": {
          "base_uri": "https://localhost:8080/"
        },
        "id": "IlCvgAJB-P1u",
        "outputId": "8e994f2d-a656-4e64-86fd-7fc81d3ed39c"
      },
      "execution_count": null,
      "outputs": [
        {
          "output_type": "stream",
          "name": "stdout",
          "text": [
            "(1+2j)\n",
            "(4+6j)\n"
          ]
        }
      ]
    },
    {
      "cell_type": "code",
      "source": [
        "z = x * y\n",
        "print(z)"
      ],
      "metadata": {
        "colab": {
          "base_uri": "https://localhost:8080/"
        },
        "id": "qX6-xFp4-aHR",
        "outputId": "825b084a-a75f-4d0f-a379-cad686ad0177"
      },
      "execution_count": null,
      "outputs": [
        {
          "output_type": "stream",
          "name": "stdout",
          "text": [
            "(-5+10j)\n"
          ]
        }
      ]
    },
    {
      "cell_type": "code",
      "source": [
        "z = x / y\n",
        "print(z)"
      ],
      "metadata": {
        "colab": {
          "base_uri": "https://localhost:8080/"
        },
        "id": "QJoBwJ8W-dx9",
        "outputId": "ef087496-9ac4-4b8b-f916-a2a011a5d5c3"
      },
      "execution_count": null,
      "outputs": [
        {
          "output_type": "stream",
          "name": "stdout",
          "text": [
            "(0.44+0.08j)\n"
          ]
        }
      ]
    },
    {
      "cell_type": "code",
      "source": [
        "print(x.conjugate())  # Сопряжённое число"
      ],
      "metadata": {
        "colab": {
          "base_uri": "https://localhost:8080/"
        },
        "id": "9Tbn3BR6-hwe",
        "outputId": "e1bb748c-302c-4690-eaea-8faaa5fb68ac"
      },
      "execution_count": null,
      "outputs": [
        {
          "output_type": "stream",
          "name": "stdout",
          "text": [
            "(1-2j)\n"
          ]
        }
      ]
    },
    {
      "cell_type": "code",
      "source": [
        "print(x.imag)  # Мнимая часть"
      ],
      "metadata": {
        "colab": {
          "base_uri": "https://localhost:8080/"
        },
        "id": "2u2aBjDU-kOC",
        "outputId": "cfce0c57-90a0-439c-afa8-077ba41e2fb2"
      },
      "execution_count": null,
      "outputs": [
        {
          "output_type": "stream",
          "name": "stdout",
          "text": [
            "2.0\n"
          ]
        }
      ]
    },
    {
      "cell_type": "code",
      "source": [
        "print(x.real)  # Действительная часть"
      ],
      "metadata": {
        "colab": {
          "base_uri": "https://localhost:8080/"
        },
        "id": "L-BCKecw-mud",
        "outputId": "2e2642a2-1629-44fd-c97e-0ca42f927adb"
      },
      "execution_count": null,
      "outputs": [
        {
          "output_type": "stream",
          "name": "stdout",
          "text": [
            "1.0\n"
          ]
        }
      ]
    },
    {
      "cell_type": "code",
      "source": [
        "print(x > y)  # Комплексные числа нельзя сравнить"
      ],
      "metadata": {
        "colab": {
          "base_uri": "https://localhost:8080/",
          "height": 175
        },
        "id": "05zVsHba-pCn",
        "outputId": "8ac55f78-a27a-4913-d529-3083e9e19339"
      },
      "execution_count": null,
      "outputs": [
        {
          "output_type": "error",
          "ename": "TypeError",
          "evalue": "ignored",
          "traceback": [
            "\u001b[0;31m---------------------------------------------------------------------------\u001b[0m",
            "\u001b[0;31mTypeError\u001b[0m                                 Traceback (most recent call last)",
            "\u001b[0;32m<ipython-input-40-f97e039afcb5>\u001b[0m in \u001b[0;36m<cell line: 1>\u001b[0;34m()\u001b[0m\n\u001b[0;32m----> 1\u001b[0;31m \u001b[0mprint\u001b[0m\u001b[0;34m(\u001b[0m\u001b[0mx\u001b[0m \u001b[0;34m>\u001b[0m \u001b[0my\u001b[0m\u001b[0;34m)\u001b[0m  \u001b[0;31m# Комплексные числа нельзя сравнить\u001b[0m\u001b[0;34m\u001b[0m\u001b[0;34m\u001b[0m\u001b[0m\n\u001b[0m",
            "\u001b[0;31mTypeError\u001b[0m: '>' not supported between instances of 'complex' and 'complex'"
          ]
        }
      ]
    },
    {
      "cell_type": "code",
      "source": [
        "print(x == y)  # Но можно проверить на равенство"
      ],
      "metadata": {
        "colab": {
          "base_uri": "https://localhost:8080/"
        },
        "id": "tmThHcfY-qqJ",
        "outputId": "5af2170a-a8fb-4a36-ec8e-22288e181f4d"
      },
      "execution_count": null,
      "outputs": [
        {
          "output_type": "stream",
          "name": "stdout",
          "text": [
            "False\n"
          ]
        }
      ]
    },
    {
      "cell_type": "code",
      "source": [
        "abs(3 + 4j)  # Модуль комплексного числа"
      ],
      "metadata": {
        "colab": {
          "base_uri": "https://localhost:8080/"
        },
        "id": "ALr1pJns-sat",
        "outputId": "1e6ef5d2-64c3-4612-c781-aab06e5997d0"
      },
      "execution_count": null,
      "outputs": [
        {
          "output_type": "execute_result",
          "data": {
            "text/plain": [
              "5.0"
            ]
          },
          "metadata": {},
          "execution_count": 42
        }
      ]
    },
    {
      "cell_type": "code",
      "source": [
        "pow(3 + 4j, 2)  # Возведение в степень"
      ],
      "metadata": {
        "colab": {
          "base_uri": "https://localhost:8080/"
        },
        "id": "1FIt_Vwh-0S_",
        "outputId": "0c28e0fb-85cf-42a4-ea59-8025710095d7"
      },
      "execution_count": null,
      "outputs": [
        {
          "output_type": "execute_result",
          "data": {
            "text/plain": [
              "(-7+24j)"
            ]
          },
          "metadata": {},
          "execution_count": 43
        }
      ]
    },
    {
      "cell_type": "markdown",
      "source": [
        "Также для работы с комплексными числами используется также модуль cmath."
      ],
      "metadata": {
        "id": "Z28agKG6-3JO"
      }
    },
    {
      "cell_type": "markdown",
      "source": [
        "# 8. Строки"
      ],
      "metadata": {
        "id": "ecREF1xq_Kde"
      }
    },
    {
      "cell_type": "markdown",
      "source": [
        "## Работа со строками в Python: литералы"
      ],
      "metadata": {
        "id": "4q7_Rje9_iuF"
      }
    },
    {
      "cell_type": "markdown",
      "source": [
        "Строки в Python — упорядоченные последовательности символов, используемые для хранения и представления текстовой информации, поэтому с помощью строк можно работать со всем, что может быть представлено в текстовой форме.\n",
        "\n",
        "Это первая часть о работе со строками, а именно о литералах строк."
      ],
      "metadata": {
        "id": "EbXcIWid_pSG"
      }
    },
    {
      "cell_type": "markdown",
      "source": [
        "### Литералы строк"
      ],
      "metadata": {
        "id": "u-qGOayj_tUc"
      }
    },
    {
      "cell_type": "markdown",
      "source": [
        "Работа со строками в Python очень удобна. Существует несколько литералов строк, которые мы сейчас и рассмотрим."
      ],
      "metadata": {
        "id": "7Ho4RzOA_0DA"
      }
    },
    {
      "cell_type": "markdown",
      "source": [
        "#### Строки в апострофах и в кавычках"
      ],
      "metadata": {
        "id": "pCjuwBzr_9y9"
      }
    },
    {
      "cell_type": "markdown",
      "source": [
        "S = 'spam\"s'<br>\n",
        "S = \"spam's\"<br>\n",
        "Строки в апострофах и в кавычках — одно и то же. Причина наличия двух вариантов в том, чтобы позволить вставлять в литералы строк символы кавычек или апострофов, не используя экранирование."
      ],
      "metadata": {
        "id": "odklEAPJAEh8"
      }
    },
    {
      "cell_type": "markdown",
      "source": [
        "#### Экранированные последовательности — служебные символы"
      ],
      "metadata": {
        "id": "h6RxcilNAWv1"
      }
    },
    {
      "cell_type": "markdown",
      "source": [
        "Экранированные последовательности позволяют вставить символы, которые сложно ввести с клавиатуры.\n",
        "\n",
        "| ЭКРАНИРОВАННАЯ ПОСЛЕДОВАТЕЛЬНОСТЬ | НАЗНАЧЕНИЕ\n",
        "|-----------------------------------|-\n",
        "| \\n\t| Перевод строки\n",
        "| \\a\t| Звонок\n",
        "| \\b\t| Забой\n",
        "| \\f\t| Перевод страницы\n",
        "| \\r\t| Возврат каретки\n",
        "| \\t\t| Горизонтальная табуляция\n",
        "| \\v\t| Вертикальная табуляция\n",
        "| \\N{id}\t| Идентификатор ID базы данных Юникода\n",
        "| \\uhhhh\t| 16-битовый символ Юникода в 16-ричном представлении\n",
        "| \\Uhhhh…\t| 32-битовый символ Юникода в 32-ричном представлении\n",
        "| \\xhh\t| 16-ричное значение символа\n",
        "| \\ooo\t| 8-ричное значение символа\n",
        "| \\0\t| Символ Null (не является признаком конца строки)"
      ],
      "metadata": {
        "id": "DS_INIDkAdg1"
      }
    },
    {
      "cell_type": "markdown",
      "source": [
        "#### «Сырые» строки — подавляют экранирование"
      ],
      "metadata": {
        "id": "lHlMeJm0zD5p"
      }
    },
    {
      "cell_type": "markdown",
      "source": [
        "Если перед открывающей кавычкой стоит символ ‘r’ (в любом регистре), то механизм экранирования отключается.<br>\n",
        "S = r'C:\\newt.txt'<br>\n",
        "Но, несмотря на назначение, «сырая» строка не может заканчиваться символом обратного слэша. Пути решения:\n",
        "\n",
        "S = r'\\n\\n\\\\'[:-1]<br>\n",
        "S = r'\\n\\n' + '\\\\'<br>\n",
        "S = '\\\\n\\\\n'"
      ],
      "metadata": {
        "id": "dtbnBpQszIkK"
      }
    },
    {
      "cell_type": "markdown",
      "source": [
        "#### Строки в тройных апострофах или кавычках"
      ],
      "metadata": {
        "id": "q8xTVdqaLkrb"
      }
    },
    {
      "cell_type": "markdown",
      "source": [
        "Главное достоинство строк в тройных кавычках в том, что их можно использовать для записи многострочных блоков текста. Внутри такой строки возможно присутствие кавычек и апострофов, главное, чтобы не было трех кавычек подряд."
      ],
      "metadata": {
        "id": "3_MaYaJILsc6"
      }
    },
    {
      "cell_type": "code",
      "source": [
        "c = '''это очень большая строка, многострочный блок текста'''\n",
        "c"
      ],
      "metadata": {
        "colab": {
          "base_uri": "https://localhost:8080/",
          "height": 35
        },
        "id": "bj5yzlfZLxBV",
        "outputId": "317129f2-bd5e-4df0-a92e-5e83f975f560"
      },
      "execution_count": 1,
      "outputs": [
        {
          "output_type": "execute_result",
          "data": {
            "text/plain": [
              "'это очень большая строка, многострочный блок текста'"
            ],
            "application/vnd.google.colaboratory.intrinsic+json": {
              "type": "string"
            }
          },
          "metadata": {},
          "execution_count": 1
        }
      ]
    },
    {
      "cell_type": "code",
      "source": [
        "print(c)"
      ],
      "metadata": {
        "colab": {
          "base_uri": "https://localhost:8080/"
        },
        "id": "WqFOUnNAMFCb",
        "outputId": "be48c281-a083-45da-e913-ef721c35d6d6"
      },
      "execution_count": 2,
      "outputs": [
        {
          "output_type": "stream",
          "name": "stdout",
          "text": [
            "это очень большая строка, многострочный блок текста\n"
          ]
        }
      ]
    },
    {
      "cell_type": "markdown",
      "source": [
        "## Строки. Функции и методы строк"
      ],
      "metadata": {
        "id": "z_SgfiyCMTam"
      }
    },
    {
      "cell_type": "markdown",
      "source": [
        "Итак, о работе со строками мы немного поговорили, теперь поговорим о функциях и методах строк"
      ],
      "metadata": {
        "id": "zmHLqqXyMZAK"
      }
    },
    {
      "cell_type": "markdown",
      "source": [
        "### Базовые операции"
      ],
      "metadata": {
        "id": "JfBSv9_TMnmK"
      }
    },
    {
      "cell_type": "markdown",
      "source": [
        "1) Конкатенация (сложение)"
      ],
      "metadata": {
        "id": "mXrpCE5ZMt-z"
      }
    },
    {
      "cell_type": "code",
      "source": [
        "S1 = 'spam'\n",
        "S2 = 'eggs'\n",
        "print(S1 + S2)"
      ],
      "metadata": {
        "colab": {
          "base_uri": "https://localhost:8080/"
        },
        "id": "3Z3Ul4z3MyFX",
        "outputId": "4d7f7dc8-0bc2-4115-d620-bcc53c245109"
      },
      "execution_count": 3,
      "outputs": [
        {
          "output_type": "stream",
          "name": "stdout",
          "text": [
            "spameggs\n"
          ]
        }
      ]
    },
    {
      "cell_type": "markdown",
      "source": [
        "2) Дублирование строки"
      ],
      "metadata": {
        "id": "mhomo77yM2uy"
      }
    },
    {
      "cell_type": "code",
      "source": [
        "print('spam' * 3)"
      ],
      "metadata": {
        "colab": {
          "base_uri": "https://localhost:8080/"
        },
        "id": "IqVbW0k4M9pF",
        "outputId": "796c4409-158b-4a94-9f3a-aa1d64e92b53"
      },
      "execution_count": 4,
      "outputs": [
        {
          "output_type": "stream",
          "name": "stdout",
          "text": [
            "spamspamspam\n"
          ]
        }
      ]
    },
    {
      "cell_type": "markdown",
      "source": [
        "3) Длина строки (функция len)"
      ],
      "metadata": {
        "id": "Mw_iY4OtNALE"
      }
    },
    {
      "cell_type": "code",
      "source": [
        "len('spam')"
      ],
      "metadata": {
        "colab": {
          "base_uri": "https://localhost:8080/"
        },
        "id": "IOHN0djYNEuL",
        "outputId": "2d18f8d8-bce6-4a7c-c302-a43dc65a1799"
      },
      "execution_count": 5,
      "outputs": [
        {
          "output_type": "execute_result",
          "data": {
            "text/plain": [
              "4"
            ]
          },
          "metadata": {},
          "execution_count": 5
        }
      ]
    },
    {
      "cell_type": "markdown",
      "source": [
        "4) Доступ по индексу"
      ],
      "metadata": {
        "id": "5Acu5o8oNH3R"
      }
    },
    {
      "cell_type": "code",
      "source": [
        "S = 'spam'\n",
        "S[0]"
      ],
      "metadata": {
        "colab": {
          "base_uri": "https://localhost:8080/",
          "height": 35
        },
        "id": "brpSbkXGNJdD",
        "outputId": "0da48b93-92c7-4a5a-892a-9fd5b73b88bb"
      },
      "execution_count": 6,
      "outputs": [
        {
          "output_type": "execute_result",
          "data": {
            "text/plain": [
              "'s'"
            ],
            "application/vnd.google.colaboratory.intrinsic+json": {
              "type": "string"
            }
          },
          "metadata": {},
          "execution_count": 6
        }
      ]
    },
    {
      "cell_type": "code",
      "source": [
        "S[2]"
      ],
      "metadata": {
        "colab": {
          "base_uri": "https://localhost:8080/",
          "height": 35
        },
        "id": "hGXvg592NOnE",
        "outputId": "00b52c18-104e-44fe-fb29-065054d62191"
      },
      "execution_count": 7,
      "outputs": [
        {
          "output_type": "execute_result",
          "data": {
            "text/plain": [
              "'a'"
            ],
            "application/vnd.google.colaboratory.intrinsic+json": {
              "type": "string"
            }
          },
          "metadata": {},
          "execution_count": 7
        }
      ]
    },
    {
      "cell_type": "code",
      "source": [
        "S[-2]"
      ],
      "metadata": {
        "colab": {
          "base_uri": "https://localhost:8080/",
          "height": 35
        },
        "id": "n-jOtsedNRer",
        "outputId": "b0e940c9-d58c-4898-8661-c2c7fe817dac"
      },
      "execution_count": 8,
      "outputs": [
        {
          "output_type": "execute_result",
          "data": {
            "text/plain": [
              "'a'"
            ],
            "application/vnd.google.colaboratory.intrinsic+json": {
              "type": "string"
            }
          },
          "metadata": {},
          "execution_count": 8
        }
      ]
    },
    {
      "cell_type": "markdown",
      "source": [
        "Как видно из примера, в Python возможен и доступ по отрицательному индексу, при этом отсчет идет от конца строки."
      ],
      "metadata": {
        "id": "oi_LsXtKNY0c"
      }
    },
    {
      "cell_type": "markdown",
      "source": [
        "5) Извлечение среза"
      ],
      "metadata": {
        "id": "n_T84Bc7NcoU"
      }
    },
    {
      "cell_type": "markdown",
      "source": [
        "Оператор извлечения среза: [X:Y]. X – начало среза, а Y – окончание;символ с номером Y в срез не входит. По умолчанию первый индекс равен 0, а второй — длине строки."
      ],
      "metadata": {
        "id": "sN3EoLKbNfHa"
      }
    },
    {
      "cell_type": "code",
      "source": [
        "s = 'spameggs'\n",
        "s[3:5]"
      ],
      "metadata": {
        "colab": {
          "base_uri": "https://localhost:8080/",
          "height": 35
        },
        "id": "wsHTiBEnNjO1",
        "outputId": "0521b63d-49a4-4dc6-adce-2353795473e3"
      },
      "execution_count": 9,
      "outputs": [
        {
          "output_type": "execute_result",
          "data": {
            "text/plain": [
              "'me'"
            ],
            "application/vnd.google.colaboratory.intrinsic+json": {
              "type": "string"
            }
          },
          "metadata": {},
          "execution_count": 9
        }
      ]
    },
    {
      "cell_type": "code",
      "source": [
        "s[2:-2]"
      ],
      "metadata": {
        "colab": {
          "base_uri": "https://localhost:8080/",
          "height": 35
        },
        "id": "_fkeOnomNncz",
        "outputId": "43236bba-009d-4129-a39f-9c105c6ba524"
      },
      "execution_count": 10,
      "outputs": [
        {
          "output_type": "execute_result",
          "data": {
            "text/plain": [
              "'ameg'"
            ],
            "application/vnd.google.colaboratory.intrinsic+json": {
              "type": "string"
            }
          },
          "metadata": {},
          "execution_count": 10
        }
      ]
    },
    {
      "cell_type": "code",
      "source": [
        "s[:6]"
      ],
      "metadata": {
        "colab": {
          "base_uri": "https://localhost:8080/",
          "height": 35
        },
        "id": "XYzbansuNr8u",
        "outputId": "68b2fd5d-35e6-4603-9213-1d05e50adec1"
      },
      "execution_count": 11,
      "outputs": [
        {
          "output_type": "execute_result",
          "data": {
            "text/plain": [
              "'spameg'"
            ],
            "application/vnd.google.colaboratory.intrinsic+json": {
              "type": "string"
            }
          },
          "metadata": {},
          "execution_count": 11
        }
      ]
    },
    {
      "cell_type": "code",
      "source": [
        "s[1:]"
      ],
      "metadata": {
        "colab": {
          "base_uri": "https://localhost:8080/",
          "height": 35
        },
        "id": "cnUmebypNuk9",
        "outputId": "2d56958b-8584-4030-9cb9-113c5b8d61db"
      },
      "execution_count": 12,
      "outputs": [
        {
          "output_type": "execute_result",
          "data": {
            "text/plain": [
              "'pameggs'"
            ],
            "application/vnd.google.colaboratory.intrinsic+json": {
              "type": "string"
            }
          },
          "metadata": {},
          "execution_count": 12
        }
      ]
    },
    {
      "cell_type": "code",
      "source": [
        "s[:]"
      ],
      "metadata": {
        "colab": {
          "base_uri": "https://localhost:8080/",
          "height": 35
        },
        "id": "U6zDHt2kNykK",
        "outputId": "8e8d9fe2-3814-4f40-ed33-0b65afaf2679"
      },
      "execution_count": 13,
      "outputs": [
        {
          "output_type": "execute_result",
          "data": {
            "text/plain": [
              "'spameggs'"
            ],
            "application/vnd.google.colaboratory.intrinsic+json": {
              "type": "string"
            }
          },
          "metadata": {},
          "execution_count": 13
        }
      ]
    },
    {
      "cell_type": "markdown",
      "source": [
        "Кроме того, можно задать шаг, с которым нужно извлекать срез."
      ],
      "metadata": {
        "id": "tTUenpfXN_we"
      }
    },
    {
      "cell_type": "code",
      "source": [
        "s[::-1]"
      ],
      "metadata": {
        "colab": {
          "base_uri": "https://localhost:8080/",
          "height": 35
        },
        "id": "ySeHNYx0OCQz",
        "outputId": "e8c04eb3-93cb-47ea-abc5-25673f7e6e02"
      },
      "execution_count": 14,
      "outputs": [
        {
          "output_type": "execute_result",
          "data": {
            "text/plain": [
              "'sggemaps'"
            ],
            "application/vnd.google.colaboratory.intrinsic+json": {
              "type": "string"
            }
          },
          "metadata": {},
          "execution_count": 14
        }
      ]
    },
    {
      "cell_type": "code",
      "source": [
        "s[3:5:-1]"
      ],
      "metadata": {
        "colab": {
          "base_uri": "https://localhost:8080/",
          "height": 35
        },
        "id": "jbYQQ5RJOEGa",
        "outputId": "eee6738f-a857-44fb-9bcf-2799d8bd47a1"
      },
      "execution_count": 15,
      "outputs": [
        {
          "output_type": "execute_result",
          "data": {
            "text/plain": [
              "''"
            ],
            "application/vnd.google.colaboratory.intrinsic+json": {
              "type": "string"
            }
          },
          "metadata": {},
          "execution_count": 15
        }
      ]
    },
    {
      "cell_type": "code",
      "source": [
        "s[2::2]"
      ],
      "metadata": {
        "colab": {
          "base_uri": "https://localhost:8080/",
          "height": 35
        },
        "id": "FWk8HOCLOIxb",
        "outputId": "34d4076d-a5ad-42c2-ef63-c513f9e70e73"
      },
      "execution_count": 16,
      "outputs": [
        {
          "output_type": "execute_result",
          "data": {
            "text/plain": [
              "'aeg'"
            ],
            "application/vnd.google.colaboratory.intrinsic+json": {
              "type": "string"
            }
          },
          "metadata": {},
          "execution_count": 16
        }
      ]
    },
    {
      "cell_type": "markdown",
      "source": [
        "### Другие функции и методы строк"
      ],
      "metadata": {
        "id": "ca3--GqvOQWW"
      }
    },
    {
      "cell_type": "markdown",
      "source": [
        "При вызове методов необходимо помнить, что строки в Python относятся к категории неизменяемых последовательностей, то есть все функции и методы могут лишь создавать новую строку."
      ],
      "metadata": {
        "id": "c4ZXMKa0OVt8"
      }
    }
  ]
}