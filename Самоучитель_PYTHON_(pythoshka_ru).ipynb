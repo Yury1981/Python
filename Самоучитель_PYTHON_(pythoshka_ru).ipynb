{
  "nbformat": 4,
  "nbformat_minor": 0,
  "metadata": {
    "colab": {
      "provenance": [],
      "toc_visible": true,
      "collapsed_sections": [
        "gWvmFyCnBq0S",
        "ZT_ZS9M3EuJS",
        "dM5w45OHGk_V",
        "rbmQmAu-Rlw7",
        "40biWS1B5OWW"
      ],
      "authorship_tag": "ABX9TyOufNpICVbGXxsujJMQAe3A",
      "include_colab_link": true
    },
    "kernelspec": {
      "name": "python3",
      "display_name": "Python 3"
    },
    "language_info": {
      "name": "python"
    }
  },
  "cells": [
    {
      "cell_type": "markdown",
      "metadata": {
        "id": "view-in-github",
        "colab_type": "text"
      },
      "source": [
        "<a href=\"https://colab.research.google.com/github/Yury1981/Python/blob/main/%D0%A1%D0%B0%D0%BC%D0%BE%D1%83%D1%87%D0%B8%D1%82%D0%B5%D0%BB%D1%8C_PYTHON_(pythoshka_ru).ipynb\" target=\"_parent\"><img src=\"https://colab.research.google.com/assets/colab-badge.svg\" alt=\"Open In Colab\"/></a>"
      ]
    },
    {
      "cell_type": "markdown",
      "source": [
        "# 1. **Возможности языка** python"
      ],
      "metadata": {
        "id": "gWvmFyCnBq0S"
      }
    },
    {
      "cell_type": "markdown",
      "source": [
        "Что умеет делать python:\n",
        "\n",
        "*   Работа с xml/html файлами\n",
        "*   Работа с http запросами\n",
        "*   GUI (графический интерфейс)\n",
        "*   Создание веб-сценариев\n",
        "*   Работа с FTP\n",
        "*   Работа с изображениями, аудио и видео файлами\n",
        "*   Робототехника\n",
        "*   Программирование математических и научных вычислений\n",
        "И многое, многое другое…\n",
        "\n",
        "Таким образом, python подходит для решения львиной доли повседневных задач, будь то резервное копирование, чтение электронной почты, либо же какая-нибудь игрушка. Язык программирования Python практически ничем не ограничен, поэтому также может использоваться в крупных проектах. К примеру, python интенсивно применяется IT-гигантами, такими как, например, Google и Yandex. К тому же простота и универсальность python делают его одним из лучших языков программирования."
      ],
      "metadata": {
        "id": "5lrUqpJsChBA"
      }
    },
    {
      "cell_type": "markdown",
      "source": [
        "# 2. Первая программа. Знакомство со средой разработки IDLE"
      ],
      "metadata": {
        "id": "ZT_ZS9M3EuJS"
      }
    },
    {
      "cell_type": "markdown",
      "source": [
        "После загрузки и установки python открываем IDLE (среда разработки на языке Python, поставляемая вместе с дистрибутивом).\n",
        "\n",
        "Запускаем IDLE (изначально запускается в интерактивном режиме), после чего уже можно начинать писать первую программу. Традиционно, первой программой у нас будет «hello world».\n",
        "\n",
        "Чтобы написать «hello world» на python, достаточно всего одной строки:"
      ],
      "metadata": {
        "id": "Qukb5BupFDi5"
      }
    },
    {
      "cell_type": "code",
      "source": [
        "print(\"Hello world!\")"
      ],
      "metadata": {
        "id": "RoOw6xSIFQ_5",
        "colab": {
          "base_uri": "https://localhost:8080/"
        },
        "outputId": "9f74f910-4832-4145-c327-83d29f7baf13"
      },
      "execution_count": null,
      "outputs": [
        {
          "output_type": "stream",
          "name": "stdout",
          "text": [
            "Hello world!\n"
          ]
        }
      ]
    },
    {
      "cell_type": "markdown",
      "source": [
        "Поздравляю! Вы написали свою **первую программу на python**!\n",
        "\n",
        "С интерактивным режимом мы немного познакомились, можете с ним ещё поиграться, например, написать:"
      ],
      "metadata": {
        "id": "soEa598vFVqw"
      }
    },
    {
      "cell_type": "code",
      "source": [
        "print(3 + 4)\n",
        "print(3 * 5)\n",
        "print(3 ** 2)"
      ],
      "metadata": {
        "id": "ROvWg4UZFruh",
        "colab": {
          "base_uri": "https://localhost:8080/"
        },
        "outputId": "73a4ead7-cb54-4620-a120-c7e4f9945452"
      },
      "execution_count": null,
      "outputs": [
        {
          "output_type": "stream",
          "name": "stdout",
          "text": [
            "7\n",
            "15\n",
            "9\n"
          ]
        }
      ]
    },
    {
      "cell_type": "markdown",
      "source": [
        "Но, всё-таки, интерактивный режим не будет являться основным. В основном, вы будете сохранять программный код в файл и запускать уже файл.\n",
        "\n",
        "Для того, чтобы создать новое окно, в интерактивном режиме IDLE выберите File → New File (или нажмите Ctrl + N).\n",
        "\n",
        "В открывшемся окне введите следующий код:"
      ],
      "metadata": {
        "id": "widSERZxFyco"
      }
    },
    {
      "cell_type": "code",
      "source": [
        "name = input(\"Как Вас зовут? \")\n",
        "print(\"Привет,\", name)"
      ],
      "metadata": {
        "id": "BdvjWqDlF60T",
        "colab": {
          "base_uri": "https://localhost:8080/"
        },
        "outputId": "930269c3-4163-4615-ec4e-89ed60c68a0d"
      },
      "execution_count": null,
      "outputs": [
        {
          "output_type": "stream",
          "name": "stdout",
          "text": [
            "Как Вас зовут? Юрий\n",
            "Привет, Юрий\n"
          ]
        }
      ]
    },
    {
      "cell_type": "markdown",
      "source": [
        "Первая строка печатает вопрос («Как Вас зовут? «), ожидает, пока вы не напечатаете что-нибудь и не нажмёте Enter и сохраняет введённое значение в переменной name.\n",
        "\n",
        "Во второй строке мы используем функцию print для вывода текста на экран, в данном случае для вывода «Привет, » и того, что хранится в переменной «name».\n",
        "\n",
        "Теперь нажмём F5 (или выберем в меню IDLE Run → Run Module и убедимся, что то, что мы написали, работает. Перед запуском IDLE предложит нам сохранить файл. Сохраним туда, куда вам будет удобно, после чего программа запустится.\n",
        "\n",
        "Поздравляю! Вы научились писать простейшие программы, а также познакомились со средой разработки IDLE. Теперь можно немного отдохнуть, а потом начать изучать python дальше. Можете посмотреть синтаксис python, циклы или условия. Желаю удачи!"
      ],
      "metadata": {
        "id": "PvrrO02yGCLP"
      }
    },
    {
      "cell_type": "markdown",
      "source": [
        "# 3. Синтаксис python"
      ],
      "metadata": {
        "id": "dM5w45OHGk_V"
      }
    },
    {
      "cell_type": "markdown",
      "source": [
        "Синтаксис языка Python, как и сам язык, очень прост."
      ],
      "metadata": {
        "id": "29GLxTqzJoI_"
      }
    },
    {
      "cell_type": "markdown",
      "source": [
        "## Синтаксис"
      ],
      "metadata": {
        "id": "hL3B0G1iJvF5"
      }
    },
    {
      "cell_type": "markdown",
      "source": [
        "*   Конец строки является концом инструкции (точка с запятой не требуется).\n",
        "*   Вложенные инструкции объединяются в блоки по величине отступов. Отступ может быть любым, главное, чтобы в пределах одного вложенного блока отступ был одинаков. И про читаемость кода не забывайте. Отступ в 1 пробел, к примеру, не лучшее решение. Используйте 4 пробела (или знак табуляции, на худой конец).\n",
        "*   Вложенные инструкции в Python записываются в соответствии с одним и тем же шаблоном, когда основная инструкция завершается двоеточием, вслед за которым располагается вложенный блок кода, обычно с отступом под строкой основной инструкции."
      ],
      "metadata": {
        "id": "yqEX0-hmJ5z4"
      }
    },
    {
      "cell_type": "markdown",
      "source": [
        "Основная инструкция:\n",
        ">Вложенный блок инструкций"
      ],
      "metadata": {
        "id": "5UbQKeaLOeBR"
      }
    },
    {
      "cell_type": "markdown",
      "source": [
        "## Несколько специальных случаев"
      ],
      "metadata": {
        "id": "YvmLQxQcOkRF"
      }
    },
    {
      "cell_type": "markdown",
      "source": [
        "*   Иногда возможно записать несколько инструкций в одной строке, разделяя их точкой с запятой:"
      ],
      "metadata": {
        "id": "0zCNx1f7OqDd"
      }
    },
    {
      "cell_type": "code",
      "source": [
        "a = 1; b = 2; print(a, b)"
      ],
      "metadata": {
        "colab": {
          "base_uri": "https://localhost:8080/"
        },
        "id": "oJyVvsflOzI0",
        "outputId": "a53c1cf7-e0bf-4ea6-882e-2bf63c32a217"
      },
      "execution_count": null,
      "outputs": [
        {
          "output_type": "stream",
          "name": "stdout",
          "text": [
            "1 2\n"
          ]
        }
      ]
    },
    {
      "cell_type": "markdown",
      "source": [
        "Но не делайте это слишком часто! Помните об удобочитаемости. А лучше вообще так не делайте."
      ],
      "metadata": {
        "id": "azQPlje7PAPe"
      }
    },
    {
      "cell_type": "markdown",
      "source": [
        "*   Допустимо записывать одну инструкцию в нескольких строках. Достаточно ее заключить в пару круглых, квадратных или фигурных скобок:"
      ],
      "metadata": {
        "id": "J5ju0nP5PGmk"
      }
    },
    {
      "cell_type": "code",
      "source": [
        "c = 3; d = 4\n",
        "if (a == 1 and b == 2 and\n",
        "    c == 3 and d == 4):  # Не забываем про двоеточие\n",
        "      print('spam' * 3)"
      ],
      "metadata": {
        "colab": {
          "base_uri": "https://localhost:8080/"
        },
        "id": "wUs9IDK9PKmx",
        "outputId": "32d597cf-f96d-41f8-97c4-a4f3c95b93f4"
      },
      "execution_count": null,
      "outputs": [
        {
          "output_type": "stream",
          "name": "stdout",
          "text": [
            "spamspamspam\n"
          ]
        }
      ]
    },
    {
      "cell_type": "markdown",
      "source": [
        "*   Тело составной инструкции может располагаться в той же строке, что и тело основной, если тело составной инструкции не содержит составных инструкций. Ну я думаю, вы поняли :). Давайте лучше пример приведу:"
      ],
      "metadata": {
        "id": "Fab30JNhRM9O"
      }
    },
    {
      "cell_type": "code",
      "source": [
        "x = 1; y = 0\n",
        "if x > y: print(x)"
      ],
      "metadata": {
        "colab": {
          "base_uri": "https://localhost:8080/"
        },
        "id": "ZgKHI6ISRVKk",
        "outputId": "ac41c335-f450-4023-c73a-513ee402f296"
      },
      "execution_count": null,
      "outputs": [
        {
          "output_type": "stream",
          "name": "stdout",
          "text": [
            "1\n"
          ]
        }
      ]
    },
    {
      "cell_type": "markdown",
      "source": [
        "# 4. Инструкция if-elif-else, проверка истинности, трехместное выражение if/else"
      ],
      "metadata": {
        "id": "rbmQmAu-Rlw7"
      }
    },
    {
      "cell_type": "markdown",
      "source": [
        "**Условная инструкция if-elif-else** (её ещё иногда называют оператором ветвления) — основной инструмент выбора в Python. Проще говоря, она выбирает, какое действие следует выполнить, в зависимости от значения переменных в момент проверки условия."
      ],
      "metadata": {
        "id": "K6LMTe0LRt6C"
      }
    },
    {
      "cell_type": "markdown",
      "source": [
        "## Синтаксис инструкции if"
      ],
      "metadata": {
        "id": "HXZAazx6ShDg"
      }
    },
    {
      "cell_type": "markdown",
      "source": [
        "Сначала записывается часть if с условным выражением, далее могут следовать одна или более необязательных частей elif, и, наконец, необязательная часть else. Общая форма записи условной инструкции if выглядит следующим образом:\n",
        "\n",
        "if test1:\n",
        ">state1\n",
        "\n",
        "elif test2:\n",
        ">state2\n",
        "\n",
        "else:\n",
        ">state3"
      ],
      "metadata": {
        "id": "MKhJQNFkSlfH"
      }
    },
    {
      "cell_type": "markdown",
      "source": [
        "Простой пример (напечатает ‘true’, так как 1 — истина):"
      ],
      "metadata": {
        "id": "iXz7wiZzTUxy"
      }
    },
    {
      "cell_type": "code",
      "source": [
        "if 1:\n",
        "  print('true')\n",
        "else:\n",
        "  print('false')"
      ],
      "metadata": {
        "colab": {
          "base_uri": "https://localhost:8080/"
        },
        "id": "S9JQ2xXJVGJ3",
        "outputId": "609021e2-8434-4515-dd6f-f6ec0bda16c2"
      },
      "execution_count": null,
      "outputs": [
        {
          "output_type": "stream",
          "name": "stdout",
          "text": [
            "true\n"
          ]
        }
      ]
    },
    {
      "cell_type": "markdown",
      "source": [
        "Чуть более сложный пример (его результат будет зависеть от того, что ввёл пользователь):"
      ],
      "metadata": {
        "id": "ea9EqxkjVU4k"
      }
    },
    {
      "cell_type": "code",
      "source": [
        "a = int(input())\n",
        "if a < -5:\n",
        "    print('Low')\n",
        "elif -5 <= a <= 5:\n",
        "    print('Mid')\n",
        "else:\n",
        "    print('High')"
      ],
      "metadata": {
        "colab": {
          "base_uri": "https://localhost:8080/"
        },
        "id": "qnWpf871Vbd1",
        "outputId": "04cf8740-4f03-4e56-db67-eaf072f73925"
      },
      "execution_count": null,
      "outputs": [
        {
          "output_type": "stream",
          "name": "stdout",
          "text": [
            "0\n",
            "Mid\n"
          ]
        }
      ]
    },
    {
      "cell_type": "markdown",
      "source": [
        "Конструкция с несколькими elif может также служить отличной заменой конструкции switch — case в других языках программирования."
      ],
      "metadata": {
        "id": "DtPscrWNVjAR"
      }
    },
    {
      "cell_type": "markdown",
      "source": [
        "## Проверка истинности в Python"
      ],
      "metadata": {
        "id": "4sStghm7VoOO"
      }
    },
    {
      "cell_type": "markdown",
      "source": [
        "*   Любое число, не равное 0, или непустой объект — истина.\n",
        "*   Числа, равные 0, пустые объекты и значение None — ложь.\n",
        "*   Операции сравнения применяются к структурам данных рекурсивно.\n",
        "*   Операции сравнения возвращают True или False.\n",
        "*   Логические операторы and и or возвращают истинный или ложный объект-операнд.\n",
        "\n",
        "Логические операторы:<br>\n",
        "X and Y - Истина, если оба значения X и Y истинны.<br>\n",
        "X or Y - Истина, если хотя бы одно из значений X или Y истинно.<br>\n",
        "not X - Истина, если X ложно."
      ],
      "metadata": {
        "id": "uq3ciZz7VuC-"
      }
    },
    {
      "cell_type": "markdown",
      "source": [
        "## Трехместное выражение if/else"
      ],
      "metadata": {
        "id": "-p41iG1Q3yli"
      }
    },
    {
      "cell_type": "markdown",
      "source": [
        "Следующая инструкция:\n",
        "\n",
        "if X:\n",
        ">A = Y\n",
        "\n",
        "else:\n",
        ">A = Z\n",
        "\n",
        "довольно короткая, но, тем не менее, занимает целых 4 строки. Специально для таких случаев и было придумано выражение if/else:\n",
        "\n",
        "A = Y if X else Z\n",
        "\n",
        "В данной инструкции интерпретатор выполнит выражение Y, если X истинно, в противном случае выполнится выражение Z."
      ],
      "metadata": {
        "id": "W1b5g5JR35Y6"
      }
    },
    {
      "cell_type": "code",
      "source": [
        "A = 't' if 'spam' else 'f'\n",
        "A"
      ],
      "metadata": {
        "colab": {
          "base_uri": "https://localhost:8080/",
          "height": 35
        },
        "id": "Qf4-XlJp44Vb",
        "outputId": "262a5167-5036-4fc0-9130-2ef474755bd7"
      },
      "execution_count": null,
      "outputs": [
        {
          "output_type": "execute_result",
          "data": {
            "text/plain": [
              "'t'"
            ],
            "application/vnd.google.colaboratory.intrinsic+json": {
              "type": "string"
            }
          },
          "metadata": {},
          "execution_count": 2
        }
      ]
    },
    {
      "cell_type": "markdown",
      "source": [
        "# 5. Циклы for и while, операторы break и continue, волшебное слово else"
      ],
      "metadata": {
        "id": "40biWS1B5OWW"
      }
    },
    {
      "cell_type": "markdown",
      "source": [
        "В этой статье будет сказано о **циклах for и while**, операторах **break** и **continue**, а также о слове **else**, которое, будучи употребленное с циклом, может сделать программный код несколько более понятным."
      ],
      "metadata": {
        "id": "1rWu0GHJ5VGr"
      }
    },
    {
      "cell_type": "markdown",
      "source": [
        "## Цикл while"
      ],
      "metadata": {
        "id": "DTXEtL5K5mPR"
      }
    },
    {
      "cell_type": "markdown",
      "source": [
        "While — один из самых универсальных циклов в Python, поэтому довольно медленный. Выполняет тело цикла до тех пор, пока условие цикла истинно."
      ],
      "metadata": {
        "id": "utlA_qUV5qj5"
      }
    },
    {
      "cell_type": "code",
      "source": [
        "i = 5\n",
        "while i < 15:\n",
        "  print(i)\n",
        "  i = i + 2"
      ],
      "metadata": {
        "colab": {
          "base_uri": "https://localhost:8080/"
        },
        "id": "MQLcVF0J5tdB",
        "outputId": "1a415fc5-3dba-4641-b62d-a99b31ec83b9"
      },
      "execution_count": null,
      "outputs": [
        {
          "output_type": "stream",
          "name": "stdout",
          "text": [
            "5\n",
            "7\n",
            "9\n",
            "11\n",
            "13\n"
          ]
        }
      ]
    },
    {
      "cell_type": "markdown",
      "source": [
        "## Цикл for"
      ],
      "metadata": {
        "id": "JKNWRw0EC__r"
      }
    },
    {
      "cell_type": "markdown",
      "source": [
        "Цикл for уже чуточку сложнее, чуть менее универсальный, но выполняется гораздо быстрее цикла while. Этот цикл проходится по любому итерируемому объекту (например строке или списку), и во время каждого прохода выполняет тело цикла."
      ],
      "metadata": {
        "id": "yDuCm_IUDFL8"
      }
    },
    {
      "cell_type": "code",
      "source": [
        "for i in 'hello world':\n",
        "  print(i * 2, end='')"
      ],
      "metadata": {
        "colab": {
          "base_uri": "https://localhost:8080/"
        },
        "id": "E0u9Bbf_DJ2-",
        "outputId": "6377725b-5055-4f2e-c724-1b2f3830373c"
      },
      "execution_count": 1,
      "outputs": [
        {
          "output_type": "stream",
          "name": "stdout",
          "text": [
            "hheelllloo  wwoorrlldd"
          ]
        }
      ]
    },
    {
      "cell_type": "markdown",
      "source": [
        "## Оператор continue"
      ],
      "metadata": {
        "id": "uyZotb2QDWU0"
      }
    },
    {
      "cell_type": "markdown",
      "source": [
        "Оператор continue начинает следующий проход цикла, минуя оставшееся тело цикла (for или while)."
      ],
      "metadata": {
        "id": "U58JMNPaDbSL"
      }
    },
    {
      "cell_type": "code",
      "source": [
        "for i in 'hello world':\n",
        "  if i == 'o':\n",
        "    continue\n",
        "  print(i * 2, end='')"
      ],
      "metadata": {
        "colab": {
          "base_uri": "https://localhost:8080/"
        },
        "id": "fDC_YzTIDi1y",
        "outputId": "07b7d43e-0146-4e28-f924-4ca1720f17db"
      },
      "execution_count": 2,
      "outputs": [
        {
          "output_type": "stream",
          "name": "stdout",
          "text": [
            "hheellll  wwrrlldd"
          ]
        }
      ]
    },
    {
      "cell_type": "markdown",
      "source": [
        "## Оператор break"
      ],
      "metadata": {
        "id": "5Nx8WqlfDwu7"
      }
    },
    {
      "cell_type": "markdown",
      "source": [
        "Оператор break досрочно прерывает цикл."
      ],
      "metadata": {
        "id": "fU7zO22BD28g"
      }
    },
    {
      "cell_type": "code",
      "source": [
        "for i in 'hello world':\n",
        "  if i == 'o':\n",
        "    break\n",
        "  print(i * 2, end='')"
      ],
      "metadata": {
        "colab": {
          "base_uri": "https://localhost:8080/"
        },
        "id": "0QNhBz1WD6rw",
        "outputId": "f735ecbc-fc8d-470c-d96e-a27f99cdf111"
      },
      "execution_count": 3,
      "outputs": [
        {
          "output_type": "stream",
          "name": "stdout",
          "text": [
            "hheellll"
          ]
        }
      ]
    },
    {
      "cell_type": "markdown",
      "source": [
        "## Волшебное слово else"
      ],
      "metadata": {
        "id": "dgXzZ7h1EHK9"
      }
    },
    {
      "cell_type": "markdown",
      "source": [
        "Слово else, примененное в цикле for или while, проверяет, был ли произведен выход из цикла инструкцией break, или же «естественным» образом. Блок инструкций внутри else выполнится только в том случае, если выход из цикла произошел без помощи break."
      ],
      "metadata": {
        "id": "ITJOIgF9EMmI"
      }
    },
    {
      "cell_type": "code",
      "source": [
        "for i in 'hello world':\n",
        "  if i == 'a':\n",
        "    break\n",
        "else:\n",
        "  print('Буквы a в строке нет')"
      ],
      "metadata": {
        "colab": {
          "base_uri": "https://localhost:8080/"
        },
        "id": "M-_aXAekEQqk",
        "outputId": "ca7660b6-e04c-4151-b262-5c1e88e8727c"
      },
      "execution_count": 4,
      "outputs": [
        {
          "output_type": "stream",
          "name": "stdout",
          "text": [
            "Буквы a в строке нет\n"
          ]
        }
      ]
    },
    {
      "cell_type": "markdown",
      "source": [
        "# 6. Ключевые слова, модуль keyword, встроенные функции"
      ],
      "metadata": {
        "id": "po36eh4xEgbR"
      }
    },
    {
      "cell_type": "markdown",
      "source": [
        "## Ключевые слова"
      ],
      "metadata": {
        "id": "ef4vqY_GE_pX"
      }
    },
    {
      "cell_type": "markdown",
      "source": [
        "**False** — ложь.<br>\n",
        "**True** — правда.<br>\n",
        "**None** — «пустой» объект.<br>\n",
        "**and** — логическое И.<br>\n",
        "**with / as** — менеджер контекста.<br>\n",
        "**assert** условие — возбуждает исключение, если условие ложно.<br>\n",
        "**break** — выход из цикла.<br>\n",
        "**class** — пользовательский тип, состоящий из методов и атрибутов.<br>\n",
        "**continue** — переход на следующую итерацию цикла.\n",
        "**def** — определение функции.<br>\n",
        "**del** — удаление объекта.<br>\n",
        "**elif** — в противном случае, если.<br>\n",
        "**else** — см. for/else или if/else.<br>\n",
        "**except** — перехватить исключение.<br>\n",
        "**finally** — вкупе с инструкцией try, выполняет инструкции независимо от того, было ли исключение или нет.<br>\n",
        "**for** — цикл for.<br>\n",
        "**from** — импорт нескольких функций из модуля.<br>\n",
        "**global** — позволяет сделать значение переменной, присвоенное ей внутри функции, доступным и за пределами этой функции.<br>\n",
        "**if** — если.<br>\n",
        "**import** — импорт модуля.<br>\n",
        "**in** — проверка на вхождение.<br>\n",
        "**is** — ссылаются ли 2 объекта на одно и то же место в памяти.<br>\n",
        "**lambda** — определение анонимной функции.<br>\n",
        "**nonlocal** — позволяет сделать значение переменной, присвоенное ей внутри функции, доступным в объемлющей инструкции.<br>\n",
        "**not** — логическое НЕ.<br>\n",
        "**or** — логическое ИЛИ.<br>\n",
        "**pass** — ничего не делающая конструкция.<br>\n",
        "**raise** — возбудить исключение.<br>\n",
        "**return** — вернуть результат.<br>\n",
        "**try** — выполнить инструкции, перехватывая исключения.<br>\n",
        "**while** — цикл while.<br>\n",
        "**yield** — определение функции-генератора.<br>"
      ],
      "metadata": {
        "id": "c1j7xgLWFDsp"
      }
    },
    {
      "cell_type": "markdown",
      "source": [
        "## Модуль keyword"
      ],
      "metadata": {
        "id": "Bq4AIREzHK1a"
      }
    },
    {
      "cell_type": "markdown",
      "source": [
        "В общем-то, keyword — не такой уж и модуль, но все же.<br>\n",
        "**keyword.kwlist** — список всех доступных ключевых слов.<br>\n",
        "**keyword.iskeyword(строка)** — является ли строка ключевым словом."
      ],
      "metadata": {
        "id": "9PZvxrn2HRip"
      }
    },
    {
      "cell_type": "markdown",
      "source": [
        "## Встроенные функции"
      ],
      "metadata": {
        "id": "-d44oGtlHjY4"
      }
    },
    {
      "cell_type": "markdown",
      "source": [
        "Краткий обзор встроенных функций в Python 3."
      ],
      "metadata": {
        "id": "qJN-OzZAHogU"
      }
    },
    {
      "cell_type": "markdown",
      "source": [
        "### Встроенные функции, выполняющие преобразование типов"
      ],
      "metadata": {
        "id": "JzROIWm7Huv5"
      }
    },
    {
      "cell_type": "markdown",
      "source": [
        "**bool**(x) — преобразование к типу bool, использующая стандартную процедуру проверки истинности. Если х является ложным или опущен, возвращает значение False, в противном случае она возвращает True.<br>\n",
        "**bytearray**([источник [, кодировка [ошибки]]]) — преобразование к bytearray. Bytearray — изменяемая последовательность целых чисел в диапазоне 0≤X<256. Вызванная без аргументов, возвращает пустой массив байт.<br>\n",
        "**bytes**([источник [, кодировка [ошибки]]]) — возвращает объект типа bytes, который является неизменяемой последовательностью целых чисел в диапазоне 0≤X<256. Аргументы конструктора интерпретируются как для bytearray().<br>\n",
        "**complex**([real[, imag]]) — преобразование к комплексному числу.<br>\n",
        "**dict**([object]) — преобразование к словарю.<br>\n",
        "**float**([X]) — преобразование к числу с плавающей точкой. Если аргумент не указан, возвращается 0.0.<br>\n",
        "**frozenset**([последовательность]) — возвращает неизменяемое множество.<br>\n",
        "**int**([object], [основание системы счисления]) — преобразование к целому числу.<br>\n",
        "**list**([object]) — создает список.<br>\n",
        "**memoryview**([object]) — создает объект memoryview.<br>\n",
        "**object**() — возвращает безликий объект, являющийся базовым для всех объектов.<br>\n",
        "**range**([start=0], stop, [step=1]) — арифметическая прогрессия от start до stop с шагом step.<br>\n",
        "**set**([object]) — создает множество.<br>\n",
        "**slice**([start=0], stop, [step=1]) — объект среза от start до stop с шагом step.<br>\n",
        "**str**([object], [кодировка], [ошибки]) — строковое представление объекта. Использует метод __str__.<br>\n",
        "**tuple**(obj) — преобразование к кортежу."
      ],
      "metadata": {
        "id": "r6uSfrHJH1mS"
      }
    },
    {
      "cell_type": "markdown",
      "source": [
        "### Другие встроенные функции"
      ],
      "metadata": {
        "id": "3dMzUSTqJHSS"
      }
    },
    {
      "cell_type": "markdown",
      "source": [
        "**abs**(x) — Возвращает абсолютную величину (модуль числа).<br>\n",
        "**all**(последовательность) — Возвращает True, если все элементы истинные (или, если последовательность пуста).<br>\n",
        "\n",
        "any(последовательность) — Возвращает True, если хотя бы один элемент — истина. Для пустой последовательности возвращает False.\n",
        "\n",
        "ascii(object) — Как repr(), возвращает строку, содержащую представление объекта, но заменяет не-ASCII символы на экранированные последовательности.\n",
        "\n",
        "bin(x) — Преобразование целого числа в двоичную строку.\n",
        "\n",
        "callable(x) — Возвращает True для объекта, поддерживающего вызов (как функции).\n",
        "\n",
        "chr(x) — Возвращает односимвольную строку, код символа которой равен x.\n",
        "\n",
        "classmethod(x) — Представляет указанную функцию методом класса.\n",
        "\n",
        "compile(source, filename, mode, flags=0, dont_inherit=False) — Компиляция в программный код, который впоследствии может выполниться функцией eval или exec. Строка не должна содержать символов возврата каретки или нулевые байты.\n",
        "\n",
        "delattr(object, name) — Удаляет атрибут с именем ‘name’.\n",
        "\n",
        "dir([object]) — Список имен объекта, а если объект не указан, список имен в текущей локальной области видимости.\n",
        "\n",
        "divmod(a, b) — Возвращает частное и остаток от деления a на b.\n",
        "\n",
        "enumerate(iterable, start=0) — Возвращает итератор, при каждом проходе предоставляющем кортеж из номера и соответствующего члена последовательности.\n",
        "\n",
        "eval(expression, globals=None, locals=None) — Выполняет строку программного кода.\n",
        "\n",
        "exec(object[, globals[, locals]]) — Выполняет программный код на Python.\n",
        "\n",
        "filter(function, iterable) — Возвращает итератор из тех элементов, для которых function возвращает истину.\n",
        "\n",
        "format(value[,format_spec]) — Форматирование (обычно форматирование строки).\n",
        "\n",
        "getattr(object, name ,[default]) — извлекает атрибут объекта или default.\n",
        "\n",
        "globals() — Словарь глобальных имен.\n",
        "\n",
        "hasattr(object, name) — Имеет ли объект атрибут с именем ‘name’.\n",
        "\n",
        "hash(x) — Возвращает хеш указанного объекта.\n",
        "\n",
        "help([object]) — Вызов встроенной справочной системы.\n",
        "\n",
        "hex(х) — Преобразование целого числа в шестнадцатеричную строку.\n",
        "\n",
        "id(object) — Возвращает «адрес» объекта. Это целое число, которое гарантированно будет уникальным и постоянным для данного объекта в течение срока его существования.\n",
        "\n",
        "input([prompt]) — Возвращает введенную пользователем строку. Prompt — подсказка пользователю.\n",
        "\n",
        "isinstance(object, ClassInfo) — Истина, если объект является экземпляром ClassInfo или его подклассом. Если объект не является объектом данного типа, функция всегда возвращает ложь.\n",
        "\n",
        "issubclass(класс, ClassInfo) — Истина, если класс является подклассом ClassInfo. Класс считается подклассом себя.\n",
        "\n",
        "iter(x) — Возвращает объект итератора.\n",
        "\n",
        "len(x) — Возвращает число элементов в указанном объекте.\n",
        "\n",
        "locals() — Словарь локальных имен.\n",
        "\n",
        "map(function, iterator) — Итератор, получившийся после применения к каждому элементу последовательности функции function.\n",
        "\n",
        "max(iter, [args …] * [, key]) — Максимальный элемент последовательности.\n",
        "\n",
        "min(iter, [args …] * [, key]) — Минимальный элемент последовательности.\n",
        "\n",
        "next(x) — Возвращает следующий элемент итератора.\n",
        "\n",
        "oct(х) — Преобразование целого числа в восьмеричную строку.\n",
        "\n",
        "open(file, mode=’r’, buffering=None, encoding=None, errors=None, newline=None, closefd=True) — Открывает файл и возвращает соответствующий поток.\n",
        "\n",
        "ord(с) — Код символа.\n",
        "\n",
        "pow(x, y[, r]) — ( x ** y ) % r.\n",
        "\n",
        "reversed(object) — Итератор из развернутого объекта.\n",
        "\n",
        "repr(obj) — Представление объекта.\n",
        "\n",
        "print([object, …], *, sep=’ ‘, end=’\\n’, file=sys.stdout) — Печать.\n",
        "\n",
        "property(fget=None, fset=None, fdel=None, doc=None)\n",
        "\n",
        "round(X [, N]) — Округление до N знаков после запятой.\n",
        "\n",
        "setattr(объект, имя, значение) — Устанавливает атрибут объекта.\n",
        "\n",
        "sorted(iterable[, key][, reverse]) — Отсортированный список.\n",
        "\n",
        "staticmethod(function) — Статический метод для функции.\n",
        "\n",
        "sum(iter, start=0) — Сумма членов последовательности.\n",
        "\n",
        "super([тип [, объект или тип]]) — Доступ к родительскому классу.\n",
        "\n",
        "type(object) — Возвращает тип объекта.\n",
        "\n",
        "type(name, bases, dict) — Возвращает новый экземпляр класса name.\n",
        "\n",
        "vars([object]) — Словарь из атрибутов объекта. По умолчанию — словарь локальных имен.\n",
        "\n",
        "zip(*iters) — Итератор, возвращающий кортежи, состоящие из соответствующих элементов аргументов-последовательностей."
      ],
      "metadata": {
        "id": "XJTUKfrFJN2A"
      }
    }
  ]
}